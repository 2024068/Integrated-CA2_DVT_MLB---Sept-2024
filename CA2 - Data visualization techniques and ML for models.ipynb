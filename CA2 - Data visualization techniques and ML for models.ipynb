{
 "cells": [
  {
   "cell_type": "markdown",
   "id": "a68fbf83",
   "metadata": {},
   "source": [
    "# Recommendation System"
   ]
  },
  {
   "cell_type": "code",
   "execution_count": null,
   "id": "152f454f-4be8-4ec6-bcc5-9ffc42c5f331",
   "metadata": {},
   "outputs": [],
   "source": [
    "pip uninstall numpy"
   ]
  },
  {
   "cell_type": "code",
   "execution_count": 19,
   "id": "3df2a902",
   "metadata": {},
   "outputs": [],
   "source": [
    "import pandas as pd\n",
    "import numpy as np"
   ]
  },
  {
   "cell_type": "markdown",
   "id": "ac276958",
   "metadata": {},
   "source": [
    "## Item based collaborative system"
   ]
  },
  {
   "cell_type": "code",
   "execution_count": 3,
   "id": "80f36af5",
   "metadata": {},
   "outputs": [],
   "source": [
    "data = pd.read_json('renttherunway_final_data.json', lines=True, nrows=10000)"
   ]
  },
  {
   "cell_type": "code",
   "execution_count": 4,
   "id": "de11ad50",
   "metadata": {},
   "outputs": [
    {
     "data": {
      "text/html": [
       "<div>\n",
       "<style scoped>\n",
       "    .dataframe tbody tr th:only-of-type {\n",
       "        vertical-align: middle;\n",
       "    }\n",
       "\n",
       "    .dataframe tbody tr th {\n",
       "        vertical-align: top;\n",
       "    }\n",
       "\n",
       "    .dataframe thead th {\n",
       "        text-align: right;\n",
       "    }\n",
       "</style>\n",
       "<table border=\"1\" class=\"dataframe\">\n",
       "  <thead>\n",
       "    <tr style=\"text-align: right;\">\n",
       "      <th></th>\n",
       "      <th>fit</th>\n",
       "      <th>user_id</th>\n",
       "      <th>bust size</th>\n",
       "      <th>item_id</th>\n",
       "      <th>weight</th>\n",
       "      <th>rating</th>\n",
       "      <th>rented for</th>\n",
       "      <th>review_text</th>\n",
       "      <th>body type</th>\n",
       "      <th>review_summary</th>\n",
       "      <th>category</th>\n",
       "      <th>height</th>\n",
       "      <th>size</th>\n",
       "      <th>age</th>\n",
       "      <th>review_date</th>\n",
       "    </tr>\n",
       "  </thead>\n",
       "  <tbody>\n",
       "    <tr>\n",
       "      <th>0</th>\n",
       "      <td>fit</td>\n",
       "      <td>420272</td>\n",
       "      <td>34d</td>\n",
       "      <td>2260466</td>\n",
       "      <td>137lbs</td>\n",
       "      <td>10</td>\n",
       "      <td>vacation</td>\n",
       "      <td>An adorable romper! Belt and zipper were a lit...</td>\n",
       "      <td>hourglass</td>\n",
       "      <td>So many compliments!</td>\n",
       "      <td>romper</td>\n",
       "      <td>5' 8\"</td>\n",
       "      <td>14</td>\n",
       "      <td>28.0</td>\n",
       "      <td>April 20, 2016</td>\n",
       "    </tr>\n",
       "    <tr>\n",
       "      <th>1</th>\n",
       "      <td>fit</td>\n",
       "      <td>273551</td>\n",
       "      <td>34b</td>\n",
       "      <td>153475</td>\n",
       "      <td>132lbs</td>\n",
       "      <td>10</td>\n",
       "      <td>other</td>\n",
       "      <td>I rented this dress for a photo shoot. The the...</td>\n",
       "      <td>straight &amp; narrow</td>\n",
       "      <td>I felt so glamourous!!!</td>\n",
       "      <td>gown</td>\n",
       "      <td>5' 6\"</td>\n",
       "      <td>12</td>\n",
       "      <td>36.0</td>\n",
       "      <td>June 18, 2013</td>\n",
       "    </tr>\n",
       "    <tr>\n",
       "      <th>2</th>\n",
       "      <td>fit</td>\n",
       "      <td>360448</td>\n",
       "      <td>NaN</td>\n",
       "      <td>1063761</td>\n",
       "      <td>NaN</td>\n",
       "      <td>10</td>\n",
       "      <td>party</td>\n",
       "      <td>This hugged in all the right places! It was a ...</td>\n",
       "      <td>NaN</td>\n",
       "      <td>It was a great time to celebrate the (almost) ...</td>\n",
       "      <td>sheath</td>\n",
       "      <td>5' 4\"</td>\n",
       "      <td>4</td>\n",
       "      <td>116.0</td>\n",
       "      <td>December 14, 2015</td>\n",
       "    </tr>\n",
       "    <tr>\n",
       "      <th>3</th>\n",
       "      <td>fit</td>\n",
       "      <td>909926</td>\n",
       "      <td>34c</td>\n",
       "      <td>126335</td>\n",
       "      <td>135lbs</td>\n",
       "      <td>8</td>\n",
       "      <td>formal affair</td>\n",
       "      <td>I rented this for my company's black tie award...</td>\n",
       "      <td>pear</td>\n",
       "      <td>Dress arrived on time and in perfect condition.</td>\n",
       "      <td>dress</td>\n",
       "      <td>5' 5\"</td>\n",
       "      <td>8</td>\n",
       "      <td>34.0</td>\n",
       "      <td>February 12, 2014</td>\n",
       "    </tr>\n",
       "    <tr>\n",
       "      <th>4</th>\n",
       "      <td>fit</td>\n",
       "      <td>151944</td>\n",
       "      <td>34b</td>\n",
       "      <td>616682</td>\n",
       "      <td>145lbs</td>\n",
       "      <td>10</td>\n",
       "      <td>wedding</td>\n",
       "      <td>I have always been petite in my upper body and...</td>\n",
       "      <td>athletic</td>\n",
       "      <td>Was in love with this dress !!!</td>\n",
       "      <td>gown</td>\n",
       "      <td>5' 9\"</td>\n",
       "      <td>12</td>\n",
       "      <td>27.0</td>\n",
       "      <td>September 26, 2016</td>\n",
       "    </tr>\n",
       "  </tbody>\n",
       "</table>\n",
       "</div>"
      ],
      "text/plain": [
       "   fit  user_id bust size  item_id  weight  rating     rented for  \\\n",
       "0  fit   420272       34d  2260466  137lbs      10       vacation   \n",
       "1  fit   273551       34b   153475  132lbs      10          other   \n",
       "2  fit   360448       NaN  1063761     NaN      10          party   \n",
       "3  fit   909926       34c   126335  135lbs       8  formal affair   \n",
       "4  fit   151944       34b   616682  145lbs      10        wedding   \n",
       "\n",
       "                                         review_text          body type  \\\n",
       "0  An adorable romper! Belt and zipper were a lit...          hourglass   \n",
       "1  I rented this dress for a photo shoot. The the...  straight & narrow   \n",
       "2  This hugged in all the right places! It was a ...                NaN   \n",
       "3  I rented this for my company's black tie award...               pear   \n",
       "4  I have always been petite in my upper body and...           athletic   \n",
       "\n",
       "                                      review_summary category height  size  \\\n",
       "0                               So many compliments!   romper  5' 8\"    14   \n",
       "1                            I felt so glamourous!!!     gown  5' 6\"    12   \n",
       "2  It was a great time to celebrate the (almost) ...   sheath  5' 4\"     4   \n",
       "3   Dress arrived on time and in perfect condition.     dress  5' 5\"     8   \n",
       "4                    Was in love with this dress !!!     gown  5' 9\"    12   \n",
       "\n",
       "     age         review_date  \n",
       "0   28.0      April 20, 2016  \n",
       "1   36.0       June 18, 2013  \n",
       "2  116.0   December 14, 2015  \n",
       "3   34.0   February 12, 2014  \n",
       "4   27.0  September 26, 2016  "
      ]
     },
     "execution_count": 4,
     "metadata": {},
     "output_type": "execute_result"
    }
   ],
   "source": [
    "data.head()"
   ]
  },
  {
   "cell_type": "code",
   "execution_count": 5,
   "id": "f24d6dce",
   "metadata": {},
   "outputs": [],
   "source": [
    "filtered_data = data[(data['age'] >= 18) & (data['age'] <= 35)]\n"
   ]
  },
  {
   "cell_type": "code",
   "execution_count": 6,
   "id": "fedb4508",
   "metadata": {},
   "outputs": [
    {
     "name": "stdout",
     "output_type": "stream",
     "text": [
      "<class 'pandas.core.frame.DataFrame'>\n",
      "Index: 6918 entries, 0 to 9997\n",
      "Data columns (total 15 columns):\n",
      " #   Column          Non-Null Count  Dtype  \n",
      "---  ------          --------------  -----  \n",
      " 0   fit             6918 non-null   object \n",
      " 1   user_id         6918 non-null   int64  \n",
      " 2   bust size       6261 non-null   object \n",
      " 3   item_id         6918 non-null   int64  \n",
      " 4   weight          5783 non-null   object \n",
      " 5   rating          6918 non-null   int64  \n",
      " 6   rented for      6917 non-null   object \n",
      " 7   review_text     6918 non-null   object \n",
      " 8   body type       6411 non-null   object \n",
      " 9   review_summary  6918 non-null   object \n",
      " 10  category        6918 non-null   object \n",
      " 11  height          6890 non-null   object \n",
      " 12  size            6918 non-null   int64  \n",
      " 13  age             6918 non-null   float64\n",
      " 14  review_date     6918 non-null   object \n",
      "dtypes: float64(1), int64(4), object(10)\n",
      "memory usage: 864.8+ KB\n"
     ]
    }
   ],
   "source": [
    "filtered_data.info()"
   ]
  },
  {
   "cell_type": "code",
   "execution_count": 7,
   "id": "7ab4aa43",
   "metadata": {},
   "outputs": [
    {
     "name": "stdout",
     "output_type": "stream",
     "text": [
      "\n",
      "Number of NaN values in each column:\n",
      "fit                  0\n",
      "user_id              0\n",
      "bust size          657\n",
      "item_id              0\n",
      "weight            1135\n",
      "rating               0\n",
      "rented for           1\n",
      "review_text          0\n",
      "body type          507\n",
      "review_summary       0\n",
      "category             0\n",
      "height              28\n",
      "size                 0\n",
      "age                  0\n",
      "review_date          0\n",
      "dtype: int64\n"
     ]
    }
   ],
   "source": [
    "nan_count_per_column = filtered_data.isna().sum()\n",
    "print(\"\\nNumber of NaN values in each column:\")\n",
    "print(nan_count_per_column)"
   ]
  },
  {
   "cell_type": "code",
   "execution_count": 8,
   "id": "f8390a6a",
   "metadata": {},
   "outputs": [],
   "source": [
    "filtered_data = filtered_data.dropna()\n"
   ]
  },
  {
   "cell_type": "code",
   "execution_count": 9,
   "id": "49a01d4e",
   "metadata": {},
   "outputs": [
    {
     "data": {
      "text/plain": [
       "(5215, 15)"
      ]
     },
     "execution_count": 9,
     "metadata": {},
     "output_type": "execute_result"
    }
   ],
   "source": [
    "filtered_data.shape"
   ]
  },
  {
   "cell_type": "code",
   "execution_count": 10,
   "id": "56a41fcd",
   "metadata": {
    "scrolled": true
   },
   "outputs": [
    {
     "data": {
      "text/html": [
       "<div>\n",
       "<style scoped>\n",
       "    .dataframe tbody tr th:only-of-type {\n",
       "        vertical-align: middle;\n",
       "    }\n",
       "\n",
       "    .dataframe tbody tr th {\n",
       "        vertical-align: top;\n",
       "    }\n",
       "\n",
       "    .dataframe thead th {\n",
       "        text-align: right;\n",
       "    }\n",
       "</style>\n",
       "<table border=\"1\" class=\"dataframe\">\n",
       "  <thead>\n",
       "    <tr style=\"text-align: right;\">\n",
       "      <th></th>\n",
       "      <th>fit</th>\n",
       "      <th>user_id</th>\n",
       "      <th>bust size</th>\n",
       "      <th>item_id</th>\n",
       "      <th>weight</th>\n",
       "      <th>rating</th>\n",
       "      <th>rented for</th>\n",
       "      <th>review_text</th>\n",
       "      <th>body type</th>\n",
       "      <th>review_summary</th>\n",
       "      <th>category</th>\n",
       "      <th>height</th>\n",
       "      <th>size</th>\n",
       "      <th>age</th>\n",
       "      <th>review_date</th>\n",
       "    </tr>\n",
       "  </thead>\n",
       "  <tbody>\n",
       "    <tr>\n",
       "      <th>0</th>\n",
       "      <td>fit</td>\n",
       "      <td>420272</td>\n",
       "      <td>34d</td>\n",
       "      <td>2260466</td>\n",
       "      <td>137lbs</td>\n",
       "      <td>10</td>\n",
       "      <td>vacation</td>\n",
       "      <td>An adorable romper! Belt and zipper were a lit...</td>\n",
       "      <td>hourglass</td>\n",
       "      <td>So many compliments!</td>\n",
       "      <td>romper</td>\n",
       "      <td>5' 8\"</td>\n",
       "      <td>14</td>\n",
       "      <td>28.0</td>\n",
       "      <td>April 20, 2016</td>\n",
       "    </tr>\n",
       "    <tr>\n",
       "      <th>3</th>\n",
       "      <td>fit</td>\n",
       "      <td>909926</td>\n",
       "      <td>34c</td>\n",
       "      <td>126335</td>\n",
       "      <td>135lbs</td>\n",
       "      <td>8</td>\n",
       "      <td>formal affair</td>\n",
       "      <td>I rented this for my company's black tie award...</td>\n",
       "      <td>pear</td>\n",
       "      <td>Dress arrived on time and in perfect condition.</td>\n",
       "      <td>dress</td>\n",
       "      <td>5' 5\"</td>\n",
       "      <td>8</td>\n",
       "      <td>34.0</td>\n",
       "      <td>February 12, 2014</td>\n",
       "    </tr>\n",
       "    <tr>\n",
       "      <th>4</th>\n",
       "      <td>fit</td>\n",
       "      <td>151944</td>\n",
       "      <td>34b</td>\n",
       "      <td>616682</td>\n",
       "      <td>145lbs</td>\n",
       "      <td>10</td>\n",
       "      <td>wedding</td>\n",
       "      <td>I have always been petite in my upper body and...</td>\n",
       "      <td>athletic</td>\n",
       "      <td>Was in love with this dress !!!</td>\n",
       "      <td>gown</td>\n",
       "      <td>5' 9\"</td>\n",
       "      <td>12</td>\n",
       "      <td>27.0</td>\n",
       "      <td>September 26, 2016</td>\n",
       "    </tr>\n",
       "    <tr>\n",
       "      <th>6</th>\n",
       "      <td>fit</td>\n",
       "      <td>336066</td>\n",
       "      <td>34c</td>\n",
       "      <td>568429</td>\n",
       "      <td>112lbs</td>\n",
       "      <td>10</td>\n",
       "      <td>everyday</td>\n",
       "      <td>This dress is so sweet. I loved the print. The...</td>\n",
       "      <td>hourglass</td>\n",
       "      <td>LITERALLY THE CUTEST DRESS EVER</td>\n",
       "      <td>dress</td>\n",
       "      <td>5' 3\"</td>\n",
       "      <td>4</td>\n",
       "      <td>27.0</td>\n",
       "      <td>December 7, 2017</td>\n",
       "    </tr>\n",
       "    <tr>\n",
       "      <th>9</th>\n",
       "      <td>fit</td>\n",
       "      <td>154309</td>\n",
       "      <td>32b</td>\n",
       "      <td>1729232</td>\n",
       "      <td>114lbs</td>\n",
       "      <td>10</td>\n",
       "      <td>formal affair</td>\n",
       "      <td>The dress was very flattering and fit perfectl...</td>\n",
       "      <td>petite</td>\n",
       "      <td>This dress was everything! It was perfect for ...</td>\n",
       "      <td>gown</td>\n",
       "      <td>5' 3\"</td>\n",
       "      <td>1</td>\n",
       "      <td>33.0</td>\n",
       "      <td>October 17, 2016</td>\n",
       "    </tr>\n",
       "  </tbody>\n",
       "</table>\n",
       "</div>"
      ],
      "text/plain": [
       "   fit  user_id bust size  item_id  weight  rating     rented for  \\\n",
       "0  fit   420272       34d  2260466  137lbs      10       vacation   \n",
       "3  fit   909926       34c   126335  135lbs       8  formal affair   \n",
       "4  fit   151944       34b   616682  145lbs      10        wedding   \n",
       "6  fit   336066       34c   568429  112lbs      10       everyday   \n",
       "9  fit   154309       32b  1729232  114lbs      10  formal affair   \n",
       "\n",
       "                                         review_text  body type  \\\n",
       "0  An adorable romper! Belt and zipper were a lit...  hourglass   \n",
       "3  I rented this for my company's black tie award...       pear   \n",
       "4  I have always been petite in my upper body and...   athletic   \n",
       "6  This dress is so sweet. I loved the print. The...  hourglass   \n",
       "9  The dress was very flattering and fit perfectl...     petite   \n",
       "\n",
       "                                      review_summary category height  size  \\\n",
       "0                               So many compliments!   romper  5' 8\"    14   \n",
       "3   Dress arrived on time and in perfect condition.     dress  5' 5\"     8   \n",
       "4                    Was in love with this dress !!!     gown  5' 9\"    12   \n",
       "6                    LITERALLY THE CUTEST DRESS EVER    dress  5' 3\"     4   \n",
       "9  This dress was everything! It was perfect for ...     gown  5' 3\"     1   \n",
       "\n",
       "    age         review_date  \n",
       "0  28.0      April 20, 2016  \n",
       "3  34.0   February 12, 2014  \n",
       "4  27.0  September 26, 2016  \n",
       "6  27.0    December 7, 2017  \n",
       "9  33.0    October 17, 2016  "
      ]
     },
     "execution_count": 10,
     "metadata": {},
     "output_type": "execute_result"
    }
   ],
   "source": [
    "filtered_data.head()"
   ]
  },
  {
   "cell_type": "code",
   "execution_count": null,
   "id": "cb04776d",
   "metadata": {},
   "outputs": [],
   "source": []
  },
  {
   "cell_type": "markdown",
   "id": "a60b73b5",
   "metadata": {},
   "source": [
    "user_id  item_id  rating"
   ]
  },
  {
   "cell_type": "code",
   "execution_count": 11,
   "id": "a97f62b9",
   "metadata": {},
   "outputs": [],
   "source": [
    "filtered_data = filtered_data[['user_id', 'item_id', 'rating']]"
   ]
  },
  {
   "cell_type": "code",
   "execution_count": 12,
   "id": "1ab63bf6",
   "metadata": {},
   "outputs": [],
   "source": [
    "from scipy.sparse import csr_matrix\n",
    "\n",
    "n_users =  filtered_data[\"user_id\"].nunique()\n",
    "n_items =  filtered_data[\"item_id\"].nunique()\n",
    "n_items = filtered_data['item_id'].max()\n"
   ]
  },
  {
   "cell_type": "code",
   "execution_count": 13,
   "id": "b3d6b824",
   "metadata": {},
   "outputs": [],
   "source": [
    "# Clean up unnecessary variables to free memory and improve performance\n",
    "keep = ['filtered_data', 'data', 'data_cleaned','n_users','n_items',]\n",
    "for var in list(globals()):\n",
    "    if var not in keep and not var.startswith(\"__\"):\n",
    "        del globals()[var]"
   ]
  },
  {
   "cell_type": "code",
   "execution_count": 14,
   "id": "aefaf987",
   "metadata": {},
   "outputs": [
    {
     "name": "stdout",
     "output_type": "stream",
     "text": [
      "4746\n",
      "2963850\n"
     ]
    }
   ],
   "source": [
    "print(n_users)\n",
    "print(n_items)"
   ]
  },
  {
   "cell_type": "code",
   "execution_count": 15,
   "id": "17b86ddb",
   "metadata": {},
   "outputs": [
    {
     "name": "stdout",
     "output_type": "stream",
     "text": [
      "   user_id  item_id  rating\n",
      "0   420272  2260466      10\n",
      "3   909926   126335       8\n",
      "4   151944   616682      10\n",
      "6   336066   568429      10\n",
      "9   154309  1729232      10\n",
      "             user_id       item_id       rating\n",
      "count    5215.000000  5.215000e+03  5215.000000\n",
      "mean   503950.886481  1.029934e+06     9.116395\n",
      "std    292353.761647  7.945314e+05     1.395947\n",
      "min       321.000000  1.233730e+05     2.000000\n",
      "25%    251276.000000  1.880520e+05     8.000000\n",
      "50%    508011.000000  9.388820e+05    10.000000\n",
      "75%    754087.000000  1.662059e+06    10.000000\n",
      "max    999910.000000  2.963850e+06    10.000000\n"
     ]
    }
   ],
   "source": [
    "print(filtered_data.head())\n",
    "print(filtered_data.describe())\n"
   ]
  },
  {
   "cell_type": "code",
   "execution_count": 16,
   "id": "99b8d150",
   "metadata": {},
   "outputs": [
    {
     "ename": "NameError",
     "evalue": "name 'np' is not defined",
     "output_type": "error",
     "traceback": [
      "\u001b[1;31m---------------------------------------------------------------------------\u001b[0m",
      "\u001b[1;31mNameError\u001b[0m                                 Traceback (most recent call last)",
      "Cell \u001b[1;32mIn[16], line 1\u001b[0m\n\u001b[1;32m----> 1\u001b[0m A \u001b[38;5;241m=\u001b[39m \u001b[43mnp\u001b[49m\u001b[38;5;241m.\u001b[39mzeros((n_users,n_items))\n\u001b[0;32m      2\u001b[0m \u001b[38;5;28;01mfor\u001b[39;00m line \u001b[38;5;129;01min\u001b[39;00m filtered_data\u001b[38;5;241m.\u001b[39mitertuples():\n\u001b[0;32m      3\u001b[0m     A[line[\u001b[38;5;241m1\u001b[39m]\u001b[38;5;241m-\u001b[39m\u001b[38;5;241m1\u001b[39m,line[\u001b[38;5;241m2\u001b[39m]\u001b[38;5;241m-\u001b[39m\u001b[38;5;241m1\u001b[39m] \u001b[38;5;241m=\u001b[39m line[\u001b[38;5;241m3\u001b[39m]\n",
      "\u001b[1;31mNameError\u001b[0m: name 'np' is not defined"
     ]
    }
   ],
   "source": [
    "A = np.zeros((n_users,n_items))\n",
    "for line in filtered_data.itertuples():\n",
    "    A[line[1]-1,line[2]-1] = line[3]\n",
    "print(\"Original rating matrix : \",A)"
   ]
  },
  {
   "cell_type": "code",
   "execution_count": null,
   "id": "696a1c2d",
   "metadata": {},
   "outputs": [],
   "source": [
    "\n",
    "\n",
    "#sparse_matrix list\n",
    "rows = filtered_data[\"user_id\"].values\n",
    "cols = filtered_data[\"item_id\"].values\n",
    "data = np.where(filtered_data[\"rating\"] >= 3, 1, 0) \n",
    "\n",
    "sparse_matrix = csr_matrix((data, (rows, cols)), shape=(n_users,n_items))"
   ]
  },
  {
   "cell_type": "code",
   "execution_count": null,
   "id": "1b965465",
   "metadata": {},
   "outputs": [],
   "source": [
    "n_users = filtered_data.user_id.unique().shape[0]\n",
    "n_items = filtered_data.item_id.unique().shape[0]\n",
    "n_items = filtered_data['item_id'].max()\n",
    "A = np.zeros((n_users,n_items))\n",
    "for line in dataset.itertuples():\n",
    "    A[line[1]-1,line[2]-1] = line[3]\n",
    "print(\"Original rating matrix : \",A)"
   ]
  },
  {
   "cell_type": "code",
   "execution_count": null,
   "id": "125def5e",
   "metadata": {},
   "outputs": [],
   "source": []
  },
  {
   "cell_type": "code",
   "execution_count": null,
   "id": "5a36b8f5",
   "metadata": {},
   "outputs": [],
   "source": []
  },
  {
   "cell_type": "code",
   "execution_count": null,
   "id": "ba45a68a",
   "metadata": {},
   "outputs": [],
   "source": []
  },
  {
   "cell_type": "code",
   "execution_count": null,
   "id": "c39bec8d",
   "metadata": {},
   "outputs": [],
   "source": [
    "import pandas as pd\n",
    "from sklearn.metrics.pairwise import cosine_similarity\n",
    "from sklearn.feature_extraction.text import CountVectorizer\n",
    "\n",
    "\n",
    "data = data.dropna(subset=['rating', 'user_id', 'item_id'])\n",
    "\n",
    "# Crear matriz de utilidad (usuario-ítem)\n",
    "utility_matrix = data.pivot_table(index='item_id', columns='user_id', values='rating', fill_value=0)\n",
    "\n",
    "# Calcular la similitud entre ítems\n",
    "item_similarity = cosine_similarity(utility_matrix)\n",
    "item_similarity_df = pd.DataFrame(item_similarity, index=utility_matrix.index, columns=utility_matrix.index)\n",
    "\n",
    "# Ejemplo de ítems similares\n",
    "item_id = 123  # Cambiar por un ID válido\n",
    "similar_items = item_similarity_df[item_id].sort_values(ascending=False).head(5)\n",
    "print(similar_items)\n"
   ]
  },
  {
   "cell_type": "code",
   "execution_count": null,
   "id": "ada972e3",
   "metadata": {},
   "outputs": [],
   "source": [
    "n_items"
   ]
  },
  {
   "cell_type": "code",
   "execution_count": null,
   "id": "b739fa8f",
   "metadata": {},
   "outputs": [],
   "source": [
    "data.describe()"
   ]
  },
  {
   "cell_type": "code",
   "execution_count": null,
   "id": "35d8e916",
   "metadata": {},
   "outputs": [],
   "source": [
    "counts = data['item_id'].value_counts()\n",
    "counts"
   ]
  },
  {
   "cell_type": "code",
   "execution_count": null,
   "id": "17c7e8cd",
   "metadata": {},
   "outputs": [],
   "source": [
    "para"
   ]
  },
  {
   "cell_type": "code",
   "execution_count": null,
   "id": "908af5f4",
   "metadata": {},
   "outputs": [],
   "source": [
    "data.head()"
   ]
  },
  {
   "cell_type": "code",
   "execution_count": null,
   "id": "56496d22",
   "metadata": {},
   "outputs": [],
   "source": []
  },
  {
   "cell_type": "markdown",
   "id": "5de1a669",
   "metadata": {},
   "source": [
    "# Market basket analysis"
   ]
  },
  {
   "cell_type": "code",
   "execution_count": null,
   "id": "6bcfb760",
   "metadata": {},
   "outputs": [],
   "source": [
    "data = pd.read_csv('bread basket.csv')"
   ]
  },
  {
   "cell_type": "code",
   "execution_count": null,
   "id": "f8d3aa60",
   "metadata": {},
   "outputs": [],
   "source": [
    "data.head()"
   ]
  },
  {
   "cell_type": "code",
   "execution_count": null,
   "id": "2efd61d8",
   "metadata": {},
   "outputs": [],
   "source": [
    "data = data.drop(['date_time','period_day','weekday_weekend'], axis=1)"
   ]
  },
  {
   "cell_type": "code",
   "execution_count": null,
   "id": "0be4cf26",
   "metadata": {},
   "outputs": [],
   "source": [
    "data"
   ]
  },
  {
   "cell_type": "code",
   "execution_count": null,
   "id": "8cc93543",
   "metadata": {},
   "outputs": [],
   "source": [
    "data = data.groupby('Transaction')['Item'].apply(list)\n",
    "data"
   ]
  },
  {
   "cell_type": "code",
   "execution_count": null,
   "id": "6bf18d00",
   "metadata": {},
   "outputs": [],
   "source": [
    "data.info()"
   ]
  },
  {
   "cell_type": "code",
   "execution_count": null,
   "id": "1e9ed2f5",
   "metadata": {
    "scrolled": true
   },
   "outputs": [],
   "source": [
    "transactions = data.tolist()\n",
    "transactions"
   ]
  },
  {
   "cell_type": "code",
   "execution_count": null,
   "id": "93765df4",
   "metadata": {},
   "outputs": [],
   "source": [
    "items = list(set(item for transaction in transactions for item in transaction))\n",
    "\n",
    "items"
   ]
  },
  {
   "cell_type": "code",
   "execution_count": null,
   "id": "7fc5ae50",
   "metadata": {},
   "outputs": [],
   "source": [
    "encoded_data = pd.DataFrame(\n",
    "    [[item in transaction for item in items] for transaction in transactions],\n",
    "    columns=items\n",
    ")\n",
    "\n",
    "\n",
    "encoded_data.head()"
   ]
  },
  {
   "cell_type": "markdown",
   "id": "6e87f14f",
   "metadata": {},
   "source": [
    "# Apriori Algorithm"
   ]
  },
  {
   "cell_type": "code",
   "execution_count": null,
   "id": "9df4567d",
   "metadata": {},
   "outputs": [],
   "source": [
    "import time\n",
    "\n",
    "start_time = time.time()\n",
    "\n",
    "frequent_itemsets = apriori(encoded_data, min_support=0.01, use_colnames=True)\n",
    "frequent_itemsets\n",
    "\n",
    "# End timing\n",
    "end_time = time.time()\n",
    "\n",
    "# Calculate the time taken\n",
    "calculation_time = end_time - start_time\n",
    "\n",
    "print(\"Frequent Itemsets calculated in {:.2f} seconds.\".format(calculation_time))"
   ]
  },
  {
   "cell_type": "code",
   "execution_count": null,
   "id": "3cf26c69",
   "metadata": {},
   "outputs": [],
   "source": [
    "rules = association_rules(frequent_itemsets, metric = \"antecedent support\", min_threshold = 0.2)\n",
    "rules.info()"
   ]
  },
  {
   "cell_type": "code",
   "execution_count": null,
   "id": "c0008bc9",
   "metadata": {},
   "outputs": [],
   "source": [
    "# Display the results\n",
    "from IPython.display import display\n",
    "\n",
    "print(\"Frequent Itemsets:\")\n",
    "display(frequent_itemsets.head())"
   ]
  },
  {
   "cell_type": "code",
   "execution_count": null,
   "id": "3a1bd01b",
   "metadata": {},
   "outputs": [],
   "source": [
    "print(\"\\nAssociation Rules:\")\n",
    "rules"
   ]
  },
  {
   "cell_type": "code",
   "execution_count": null,
   "id": "f64455ae",
   "metadata": {},
   "outputs": [],
   "source": [
    "print(encoded_data['Bread'].sum())\n",
    "print(encoded_data['Coffee'].sum())"
   ]
  },
  {
   "cell_type": "markdown",
   "id": "ed40ee50",
   "metadata": {},
   "source": [
    "# FP Growth Algorithm"
   ]
  },
  {
   "cell_type": "code",
   "execution_count": null,
   "id": "a8e6512a",
   "metadata": {},
   "outputs": [],
   "source": [
    "from mlxtend.frequent_patterns import fpgrowth\n",
    "start_time = time.time()\n",
    "\n",
    "\n",
    "# Evaluate the frequent item rules for fpgrowth function\n",
    "frequent_itemsets_fp = fpgrowth(encoded_data, min_support = 0.01, use_colnames = True)\n",
    "\n",
    "print(frequent_itemsets_fp)\n",
    "\n",
    "# End timing\n",
    "end_time = time.time()\n",
    "\n",
    "# Calculate the time taken\n",
    "calculation_time = end_time - start_time\n",
    "\n",
    "print(\"Frequent Itemsets calculated in {:.2f} seconds.\".format(calculation_time))"
   ]
  },
  {
   "cell_type": "code",
   "execution_count": null,
   "id": "16d09073",
   "metadata": {},
   "outputs": [],
   "source": [
    "from mlxtend.frequent_patterns import association_rules\n",
    "\n",
    "# Display the reles due to fp-growth algorithm\n",
    "rules_fp = association_rules(frequent_itemsets_fp, metric = \"confidence\", min_threshold = 0.3)\n",
    "\n",
    "rules_fp"
   ]
  },
  {
   "cell_type": "code",
   "execution_count": null,
   "id": "9010fabc",
   "metadata": {},
   "outputs": [],
   "source": []
  },
  {
   "cell_type": "code",
   "execution_count": null,
   "id": "185c95fd",
   "metadata": {},
   "outputs": [],
   "source": []
  }
 ],
 "metadata": {
  "kernelspec": {
   "display_name": "Python 3 (ipykernel)",
   "language": "python",
   "name": "python3"
  },
  "language_info": {
   "codemirror_mode": {
    "name": "ipython",
    "version": 3
   },
   "file_extension": ".py",
   "mimetype": "text/x-python",
   "name": "python",
   "nbconvert_exporter": "python",
   "pygments_lexer": "ipython3",
   "version": "3.9.20"
  }
 },
 "nbformat": 4,
 "nbformat_minor": 5
}

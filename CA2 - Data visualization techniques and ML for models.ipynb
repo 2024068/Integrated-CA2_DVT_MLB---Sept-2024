{
 "cells": [
  {
   "cell_type": "markdown",
   "id": "a68fbf83",
   "metadata": {},
   "source": [
    "# Recommendation System"
   ]
  },
  {
   "cell_type": "code",
   "execution_count": 1,
   "id": "3df2a902",
   "metadata": {},
   "outputs": [],
   "source": [
    "import pandas as pd\n",
    "import numpy as np\n",
    "from mlxtend.frequent_patterns import apriori, association_rules"
   ]
  },
  {
   "cell_type": "markdown",
   "id": "a1ecfd72-394d-49db-b99a-ae599cd87cb4",
   "metadata": {},
   "source": [
    "### Content based recommender"
   ]
  },
  {
   "cell_type": "code",
   "execution_count": 39,
   "id": "80f36af5",
   "metadata": {},
   "outputs": [],
   "source": [
    "data = pd.read_json('renttherunway_final_data.json', lines=True)\n",
    "data = data.iloc[:10000, :]\n",
    "data = data.dropna()"
   ]
  },
  {
   "cell_type": "code",
   "execution_count": null,
   "id": "de11ad50",
   "metadata": {
    "scrolled": true
   },
   "outputs": [],
   "source": [
    "\n"
   ]
  },
  {
   "cell_type": "code",
   "execution_count": 40,
   "id": "b7e3bb5c-528c-45f3-9909-b4cd1a439a87",
   "metadata": {},
   "outputs": [
    {
     "name": "stdout",
     "output_type": "stream",
     "text": [
      "\n",
      "Types of data after conversion:\n",
      " fit                object\n",
      "user_id             int64\n",
      "bust size          object\n",
      "item_id             int64\n",
      "weight             object\n",
      "rating            float64\n",
      "rented for         object\n",
      "review_text        object\n",
      "body type          object\n",
      "review_summary     object\n",
      "category           object\n",
      "height             object\n",
      "size                int64\n",
      "age               float64\n",
      "review_date        object\n",
      "dtype: object\n"
     ]
    }
   ],
   "source": [
    "# Converting 'employee_id' to string\n",
    "#data['item_id'] = data['item_id'].astype(str)\n",
    "# Displaying the types of data after conversion\n",
    "print(\"\\nTypes of data after conversion:\\n\", data.dtypes)"
   ]
  },
  {
   "cell_type": "code",
   "execution_count": 41,
   "id": "b2fec344-8e76-4016-bae3-c96161231903",
   "metadata": {},
   "outputs": [
    {
     "name": "stdout",
     "output_type": "stream",
     "text": [
      "<class 'pandas.core.frame.DataFrame'>\n",
      "Index: 7600 entries, 0 to 9999\n",
      "Data columns (total 15 columns):\n",
      " #   Column          Non-Null Count  Dtype  \n",
      "---  ------          --------------  -----  \n",
      " 0   fit             7600 non-null   object \n",
      " 1   user_id         7600 non-null   int64  \n",
      " 2   bust size       7600 non-null   object \n",
      " 3   item_id         7600 non-null   int64  \n",
      " 4   weight          7600 non-null   object \n",
      " 5   rating          7600 non-null   float64\n",
      " 6   rented for      7600 non-null   object \n",
      " 7   review_text     7600 non-null   object \n",
      " 8   body type       7600 non-null   object \n",
      " 9   review_summary  7600 non-null   object \n",
      " 10  category        7600 non-null   object \n",
      " 11  height          7600 non-null   object \n",
      " 12  size            7600 non-null   int64  \n",
      " 13  age             7600 non-null   float64\n",
      " 14  review_date     7600 non-null   object \n",
      "dtypes: float64(2), int64(3), object(10)\n",
      "memory usage: 950.0+ KB\n"
     ]
    }
   ],
   "source": [
    "data = data.dropna().drop_duplicates()\n",
    "data.info()"
   ]
  },
  {
   "cell_type": "code",
   "execution_count": 42,
   "id": "fba23380-aa9d-481b-88a0-0892f947921d",
   "metadata": {},
   "outputs": [
    {
     "data": {
      "text/plain": [
       "array([420272, 273551, 909926, ..., 737193, 330374, 240023], dtype=int64)"
      ]
     },
     "execution_count": 42,
     "metadata": {},
     "output_type": "execute_result"
    }
   ],
   "source": [
    "data['user_id'].unique()"
   ]
  },
  {
   "cell_type": "code",
   "execution_count": 43,
   "id": "cb5880b0-1cf7-4bdc-91dd-c0e535cae9e0",
   "metadata": {},
   "outputs": [
    {
     "data": {
      "text/html": [
       "<div>\n",
       "<style scoped>\n",
       "    .dataframe tbody tr th:only-of-type {\n",
       "        vertical-align: middle;\n",
       "    }\n",
       "\n",
       "    .dataframe tbody tr th {\n",
       "        vertical-align: top;\n",
       "    }\n",
       "\n",
       "    .dataframe thead th {\n",
       "        text-align: right;\n",
       "    }\n",
       "</style>\n",
       "<table border=\"1\" class=\"dataframe\">\n",
       "  <thead>\n",
       "    <tr style=\"text-align: right;\">\n",
       "      <th></th>\n",
       "      <th>fit</th>\n",
       "      <th>user_id</th>\n",
       "      <th>bust size</th>\n",
       "      <th>item_id</th>\n",
       "      <th>weight</th>\n",
       "      <th>rating</th>\n",
       "      <th>rented for</th>\n",
       "      <th>review_text</th>\n",
       "      <th>body type</th>\n",
       "      <th>review_summary</th>\n",
       "      <th>category</th>\n",
       "      <th>height</th>\n",
       "      <th>size</th>\n",
       "      <th>age</th>\n",
       "      <th>review_date</th>\n",
       "    </tr>\n",
       "  </thead>\n",
       "  <tbody>\n",
       "    <tr>\n",
       "      <th>0</th>\n",
       "      <td>fit</td>\n",
       "      <td>420272</td>\n",
       "      <td>34d</td>\n",
       "      <td>2260466</td>\n",
       "      <td>137lbs</td>\n",
       "      <td>10.0</td>\n",
       "      <td>vacation</td>\n",
       "      <td>An adorable romper! Belt and zipper were a lit...</td>\n",
       "      <td>hourglass</td>\n",
       "      <td>So many compliments!</td>\n",
       "      <td>romper</td>\n",
       "      <td>5' 8\"</td>\n",
       "      <td>14</td>\n",
       "      <td>28.0</td>\n",
       "      <td>April 20, 2016</td>\n",
       "    </tr>\n",
       "    <tr>\n",
       "      <th>1</th>\n",
       "      <td>fit</td>\n",
       "      <td>273551</td>\n",
       "      <td>34b</td>\n",
       "      <td>153475</td>\n",
       "      <td>132lbs</td>\n",
       "      <td>10.0</td>\n",
       "      <td>other</td>\n",
       "      <td>I rented this dress for a photo shoot. The the...</td>\n",
       "      <td>straight &amp; narrow</td>\n",
       "      <td>I felt so glamourous!!!</td>\n",
       "      <td>gown</td>\n",
       "      <td>5' 6\"</td>\n",
       "      <td>12</td>\n",
       "      <td>36.0</td>\n",
       "      <td>June 18, 2013</td>\n",
       "    </tr>\n",
       "    <tr>\n",
       "      <th>3</th>\n",
       "      <td>fit</td>\n",
       "      <td>909926</td>\n",
       "      <td>34c</td>\n",
       "      <td>126335</td>\n",
       "      <td>135lbs</td>\n",
       "      <td>8.0</td>\n",
       "      <td>formal affair</td>\n",
       "      <td>I rented this for my company's black tie award...</td>\n",
       "      <td>pear</td>\n",
       "      <td>Dress arrived on time and in perfect condition.</td>\n",
       "      <td>dress</td>\n",
       "      <td>5' 5\"</td>\n",
       "      <td>8</td>\n",
       "      <td>34.0</td>\n",
       "      <td>February 12, 2014</td>\n",
       "    </tr>\n",
       "    <tr>\n",
       "      <th>4</th>\n",
       "      <td>fit</td>\n",
       "      <td>151944</td>\n",
       "      <td>34b</td>\n",
       "      <td>616682</td>\n",
       "      <td>145lbs</td>\n",
       "      <td>10.0</td>\n",
       "      <td>wedding</td>\n",
       "      <td>I have always been petite in my upper body and...</td>\n",
       "      <td>athletic</td>\n",
       "      <td>Was in love with this dress !!!</td>\n",
       "      <td>gown</td>\n",
       "      <td>5' 9\"</td>\n",
       "      <td>12</td>\n",
       "      <td>27.0</td>\n",
       "      <td>September 26, 2016</td>\n",
       "    </tr>\n",
       "    <tr>\n",
       "      <th>5</th>\n",
       "      <td>fit</td>\n",
       "      <td>734848</td>\n",
       "      <td>32b</td>\n",
       "      <td>364092</td>\n",
       "      <td>138lbs</td>\n",
       "      <td>8.0</td>\n",
       "      <td>date</td>\n",
       "      <td>Didn't actually wear it. It fit perfectly. The...</td>\n",
       "      <td>athletic</td>\n",
       "      <td>Traditional with a touch a sass</td>\n",
       "      <td>dress</td>\n",
       "      <td>5' 8\"</td>\n",
       "      <td>8</td>\n",
       "      <td>45.0</td>\n",
       "      <td>April 30, 2016</td>\n",
       "    </tr>\n",
       "  </tbody>\n",
       "</table>\n",
       "</div>"
      ],
      "text/plain": [
       "   fit  user_id bust size  item_id  weight  rating     rented for  \\\n",
       "0  fit   420272       34d  2260466  137lbs    10.0       vacation   \n",
       "1  fit   273551       34b   153475  132lbs    10.0          other   \n",
       "3  fit   909926       34c   126335  135lbs     8.0  formal affair   \n",
       "4  fit   151944       34b   616682  145lbs    10.0        wedding   \n",
       "5  fit   734848       32b   364092  138lbs     8.0           date   \n",
       "\n",
       "                                         review_text          body type  \\\n",
       "0  An adorable romper! Belt and zipper were a lit...          hourglass   \n",
       "1  I rented this dress for a photo shoot. The the...  straight & narrow   \n",
       "3  I rented this for my company's black tie award...               pear   \n",
       "4  I have always been petite in my upper body and...           athletic   \n",
       "5  Didn't actually wear it. It fit perfectly. The...           athletic   \n",
       "\n",
       "                                     review_summary category height  size  \\\n",
       "0                              So many compliments!   romper  5' 8\"    14   \n",
       "1                           I felt so glamourous!!!     gown  5' 6\"    12   \n",
       "3  Dress arrived on time and in perfect condition.     dress  5' 5\"     8   \n",
       "4                   Was in love with this dress !!!     gown  5' 9\"    12   \n",
       "5                   Traditional with a touch a sass    dress  5' 8\"     8   \n",
       "\n",
       "    age         review_date  \n",
       "0  28.0      April 20, 2016  \n",
       "1  36.0       June 18, 2013  \n",
       "3  34.0   February 12, 2014  \n",
       "4  27.0  September 26, 2016  \n",
       "5  45.0      April 30, 2016  "
      ]
     },
     "execution_count": 43,
     "metadata": {},
     "output_type": "execute_result"
    }
   ],
   "source": [
    "data.head()"
   ]
  },
  {
   "cell_type": "code",
   "execution_count": 44,
   "id": "cfe7f45e-4a73-4934-8a8a-4b4aedbe2452",
   "metadata": {},
   "outputs": [
    {
     "data": {
      "text/html": [
       "<div>\n",
       "<style scoped>\n",
       "    .dataframe tbody tr th:only-of-type {\n",
       "        vertical-align: middle;\n",
       "    }\n",
       "\n",
       "    .dataframe tbody tr th {\n",
       "        vertical-align: top;\n",
       "    }\n",
       "\n",
       "    .dataframe thead th {\n",
       "        text-align: right;\n",
       "    }\n",
       "</style>\n",
       "<table border=\"1\" class=\"dataframe\">\n",
       "  <thead>\n",
       "    <tr style=\"text-align: right;\">\n",
       "      <th></th>\n",
       "      <th>item_id</th>\n",
       "      <th>review_text</th>\n",
       "    </tr>\n",
       "  </thead>\n",
       "  <tbody>\n",
       "    <tr>\n",
       "      <th>0</th>\n",
       "      <td>123373</td>\n",
       "      <td>The dress was beautiful and very comfortable. ...</td>\n",
       "    </tr>\n",
       "    <tr>\n",
       "      <th>1</th>\n",
       "      <td>123793</td>\n",
       "      <td>Fit great, super flattering Limited range of a...</td>\n",
       "    </tr>\n",
       "    <tr>\n",
       "      <th>2</th>\n",
       "      <td>124204</td>\n",
       "      <td>This dress is a \"WOW.\"  It steals the show, sp...</td>\n",
       "    </tr>\n",
       "    <tr>\n",
       "      <th>3</th>\n",
       "      <td>124553</td>\n",
       "      <td>Loved the dress.  A little short in the front ...</td>\n",
       "    </tr>\n",
       "    <tr>\n",
       "      <th>4</th>\n",
       "      <td>125424</td>\n",
       "      <td>The dress would have been perfect in a size 10...</td>\n",
       "    </tr>\n",
       "    <tr>\n",
       "      <th>...</th>\n",
       "      <td>...</td>\n",
       "      <td>...</td>\n",
       "    </tr>\n",
       "    <tr>\n",
       "      <th>2737</th>\n",
       "      <td>2957481</td>\n",
       "      <td>perfect fit all the way around, I would keep i...</td>\n",
       "    </tr>\n",
       "    <tr>\n",
       "      <th>2738</th>\n",
       "      <td>2958376</td>\n",
       "      <td>Super cute. Loved this Romper, even though we ...</td>\n",
       "    </tr>\n",
       "    <tr>\n",
       "      <th>2739</th>\n",
       "      <td>2960025</td>\n",
       "      <td>It could be interesting, but this dress didn't...</td>\n",
       "    </tr>\n",
       "    <tr>\n",
       "      <th>2740</th>\n",
       "      <td>2960969</td>\n",
       "      <td>I got this through Unlimited, so didn't have t...</td>\n",
       "    </tr>\n",
       "    <tr>\n",
       "      <th>2741</th>\n",
       "      <td>2963850</td>\n",
       "      <td>This skirt is super cute. The waistline hits a...</td>\n",
       "    </tr>\n",
       "  </tbody>\n",
       "</table>\n",
       "<p>2742 rows × 2 columns</p>\n",
       "</div>"
      ],
      "text/plain": [
       "      item_id                                        review_text\n",
       "0      123373  The dress was beautiful and very comfortable. ...\n",
       "1      123793  Fit great, super flattering Limited range of a...\n",
       "2      124204  This dress is a \"WOW.\"  It steals the show, sp...\n",
       "3      124553  Loved the dress.  A little short in the front ...\n",
       "4      125424  The dress would have been perfect in a size 10...\n",
       "...       ...                                                ...\n",
       "2737  2957481  perfect fit all the way around, I would keep i...\n",
       "2738  2958376  Super cute. Loved this Romper, even though we ...\n",
       "2739  2960025  It could be interesting, but this dress didn't...\n",
       "2740  2960969  I got this through Unlimited, so didn't have t...\n",
       "2741  2963850  This skirt is super cute. The waistline hits a...\n",
       "\n",
       "[2742 rows x 2 columns]"
      ]
     },
     "execution_count": 44,
     "metadata": {},
     "output_type": "execute_result"
    }
   ],
   "source": [
    "grouped_reviews = data.groupby('item_id')['review_text'].apply(' '.join).reset_index()\n",
    "grouped_reviews"
   ]
  },
  {
   "cell_type": "code",
   "execution_count": 45,
   "id": "fa52f040-945b-403e-be41-df0043df71a4",
   "metadata": {},
   "outputs": [
    {
     "data": {
      "text/plain": [
       "(2742, 7701)"
      ]
     },
     "execution_count": 45,
     "metadata": {},
     "output_type": "execute_result"
    }
   ],
   "source": [
    "#Import TfIdfVectorizer from the scikit-learn librarydata.head()\n",
    "from sklearn.feature_extraction.text import TfidfVectorizer\n",
    "\n",
    "#Define a TF-IDF Vectorizer Object. Remove all english stopwords\n",
    "tfidf = TfidfVectorizer(stop_words='english')\n",
    "\n",
    "#Replace NaN with an empty string\n",
    "grouped_reviews['review_text'] = grouped_reviews['review_text'].fillna('')\n",
    "\n",
    "#Construct the required TF-IDF matrix by applying the fit_transform method on the overview feature\n",
    "tfidf_matrix = tfidf.fit_transform(grouped_reviews['review_text'])\n",
    "\n",
    "#Output the shape of tfidf_matrix\n",
    "tfidf_matrix.shape"
   ]
  },
  {
   "cell_type": "code",
   "execution_count": 46,
   "id": "81a41119-bfa5-4060-988f-d6036971189d",
   "metadata": {},
   "outputs": [],
   "source": [
    "# Import linear_kernel to compute the dot product\n",
    "from sklearn.metrics.pairwise import linear_kernel\n",
    "\n",
    "# Compute the cosine similarity matrix\n",
    "#cosine_sim = linear_kernel(tfidf_matrix[:10000], tfidf_matrix[:10000])\n",
    "cosine_sim = linear_kernel(tfidf_matrix, tfidf_matrix)"
   ]
  },
  {
   "cell_type": "code",
   "execution_count": 47,
   "id": "71420f3d-b0b9-413e-a28b-ab143b0d5a23",
   "metadata": {},
   "outputs": [
    {
     "data": {
      "text/plain": [
       "(2742, 2742)"
      ]
     },
     "execution_count": 47,
     "metadata": {},
     "output_type": "execute_result"
    }
   ],
   "source": [
    "cosine_sim.shape"
   ]
  },
  {
   "cell_type": "code",
   "execution_count": 48,
   "id": "0065cd92-f971-46d8-bd58-e57a9f861210",
   "metadata": {},
   "outputs": [
    {
     "data": {
      "text/plain": [
       "array([0.57584662, 1.        , 0.48359436, ..., 0.17127339, 0.11695978,\n",
       "       0.04557235])"
      ]
     },
     "execution_count": 48,
     "metadata": {},
     "output_type": "execute_result"
    }
   ],
   "source": [
    "cosine_sim[1]"
   ]
  },
  {
   "cell_type": "code",
   "execution_count": 49,
   "id": "3a803529-5aa3-4b2e-abb0-7198c3d7dd6c",
   "metadata": {},
   "outputs": [
    {
     "data": {
      "text/plain": [
       "<bound method Series.info of item_id\n",
       "123373        0\n",
       "123793        1\n",
       "124204        2\n",
       "124553        3\n",
       "125424        4\n",
       "           ... \n",
       "2957481    2737\n",
       "2958376    2738\n",
       "2960025    2739\n",
       "2960969    2740\n",
       "2963850    2741\n",
       "Length: 2742, dtype: int64>"
      ]
     },
     "execution_count": 49,
     "metadata": {},
     "output_type": "execute_result"
    }
   ],
   "source": [
    "#Construct a reverse mapping of indices and movie titles, and drop duplicate titles, if any\n",
    "indices = pd.Series(grouped_reviews.index, index=grouped_reviews['item_id']).drop_duplicates()\n",
    "indices.info"
   ]
  },
  {
   "cell_type": "code",
   "execution_count": 50,
   "id": "65c340af-0c12-4674-bcb2-6cf42b63b5b8",
   "metadata": {},
   "outputs": [
    {
     "data": {
      "text/plain": [
       "item_id\n",
       "123373    0\n",
       "123793    1\n",
       "124204    2\n",
       "124553    3\n",
       "125424    4\n",
       "125465    5\n",
       "125564    6\n",
       "126335    7\n",
       "127081    8\n",
       "127495    9\n",
       "dtype: int64"
      ]
     },
     "execution_count": 50,
     "metadata": {},
     "output_type": "execute_result"
    }
   ],
   "source": [
    "indices[:10]"
   ]
  },
  {
   "cell_type": "code",
   "execution_count": 51,
   "id": "bf69872d-48ea-4eac-91a0-4cb40ef12aa8",
   "metadata": {},
   "outputs": [],
   "source": [
    "# Function that takes in movie title as input and gives recommendations \n",
    "def content_recommender(item_id, cosine_sim=cosine_sim):\n",
    "    # Obtain the index of the movie that matches the title\n",
    "    idx = indices[item_id]\n",
    "\n",
    "    # Get the pairwsie similarity scores of all movies with that movie\n",
    "    # And convert it into a list of tuples as described above\n",
    "    sim_scores = list(enumerate(cosine_sim[idx]))\n",
    "\n",
    "    # Sort the movies based on the cosine similarity scores\n",
    "    sim_scores = sorted(sim_scores, key=lambda x: x[1], reverse=True)\n",
    "\n",
    "    # Get the scores of the 10 most similar movies. Ignore the first movie.\n",
    "    sim_scores = sim_scores[1:11]\n",
    "\n",
    "    # Get the movie indices\n",
    "    clothes_indices = [i[0] for i in sim_scores]\n",
    "\n",
    "    # Return the top 10 most similar movies\n",
    "    return grouped_reviews['item_id'].iloc[clothes_indices]"
   ]
  },
  {
   "cell_type": "code",
   "execution_count": 52,
   "id": "9b18fd1e-640e-44a5-b4a6-6b718f8817d2",
   "metadata": {},
   "outputs": [
    {
     "data": {
      "text/plain": [
       "(2742, 2)"
      ]
     },
     "execution_count": 52,
     "metadata": {},
     "output_type": "execute_result"
    }
   ],
   "source": [
    "grouped_reviews.shape"
   ]
  },
  {
   "cell_type": "code",
   "execution_count": 55,
   "id": "50fc23d0-5feb-4d98-a3f8-81a2396d5b01",
   "metadata": {},
   "outputs": [
    {
     "data": {
      "text/plain": [
       "20    132738\n",
       "17    131533\n",
       "10    127865\n",
       "47    145906\n",
       "16    131117\n",
       "7     126335\n",
       "5     125465\n",
       "30    138431\n",
       "65    154002\n",
       "14    130259\n",
       "Name: item_id, dtype: int64"
      ]
     },
     "execution_count": 55,
     "metadata": {},
     "output_type": "execute_result"
    }
   ],
   "source": [
    "#Get recommendations for item: 2260466\n",
    "content_recommender(123793)"
   ]
  },
  {
   "cell_type": "code",
   "execution_count": null,
   "id": "674e9583-1005-494d-b002-33994e230003",
   "metadata": {},
   "outputs": [],
   "source": []
  },
  {
   "cell_type": "code",
   "execution_count": null,
   "id": "4b39be50-5c62-4249-ac70-750fc273fcff",
   "metadata": {},
   "outputs": [],
   "source": [
    "para el kernel"
   ]
  },
  {
   "cell_type": "code",
   "execution_count": null,
   "id": "a1a63efb-2c08-4e93-a788-901e38c3162b",
   "metadata": {},
   "outputs": [],
   "source": []
  },
  {
   "cell_type": "code",
   "execution_count": null,
   "id": "72cd4646-9eb9-4e2e-b678-edc20c8edbe4",
   "metadata": {},
   "outputs": [],
   "source": []
  },
  {
   "cell_type": "code",
   "execution_count": null,
   "id": "7ab4aa43",
   "metadata": {},
   "outputs": [],
   "source": [
    "nan_count_per_column = filtered_data.isna().sum()\n",
    "print(\"\\nNumber of NaN values in each column:\")\n",
    "print(nan_count_per_column)"
   ]
  },
  {
   "cell_type": "code",
   "execution_count": null,
   "id": "f8390a6a",
   "metadata": {},
   "outputs": [],
   "source": [
    "filtered_data = filtered_data.dropna()\n"
   ]
  },
  {
   "cell_type": "code",
   "execution_count": null,
   "id": "49a01d4e",
   "metadata": {},
   "outputs": [],
   "source": [
    "filtered_data.shape"
   ]
  },
  {
   "cell_type": "code",
   "execution_count": null,
   "id": "56a41fcd",
   "metadata": {
    "scrolled": true
   },
   "outputs": [],
   "source": [
    "filtered_data.head()"
   ]
  },
  {
   "cell_type": "code",
   "execution_count": null,
   "id": "cb04776d",
   "metadata": {},
   "outputs": [],
   "source": []
  },
  {
   "cell_type": "markdown",
   "id": "a60b73b5",
   "metadata": {},
   "source": [
    "user_id  item_id  rating"
   ]
  },
  {
   "cell_type": "code",
   "execution_count": null,
   "id": "a97f62b9",
   "metadata": {},
   "outputs": [],
   "source": [
    "filtered_data = filtered_data[['user_id', 'item_id', 'rating']]"
   ]
  },
  {
   "cell_type": "code",
   "execution_count": null,
   "id": "1ab63bf6",
   "metadata": {},
   "outputs": [],
   "source": [
    "from scipy.sparse import csr_matrix\n",
    "\n",
    "n_users =  filtered_data[\"user_id\"].nunique()\n",
    "n_items =  filtered_data[\"item_id\"].nunique()\n",
    "n_items = filtered_data['item_id'].max()\n"
   ]
  },
  {
   "cell_type": "code",
   "execution_count": null,
   "id": "aefaf987",
   "metadata": {},
   "outputs": [],
   "source": [
    "print(n_users)\n",
    "print(n_items)"
   ]
  },
  {
   "cell_type": "code",
   "execution_count": null,
   "id": "17b86ddb",
   "metadata": {},
   "outputs": [],
   "source": [
    "print(filtered_data.head())\n",
    "print(filtered_data.describe())\n"
   ]
  },
  {
   "cell_type": "code",
   "execution_count": null,
   "id": "99b8d150",
   "metadata": {},
   "outputs": [],
   "source": [
    "A = np.zeros((n_users,n_items))\n",
    "for line in filtered_data.itertuples():\n",
    "    A[line[1]-1,line[2]-1] = line[3]\n",
    "print(\"Original rating matrix : \",A)"
   ]
  },
  {
   "cell_type": "code",
   "execution_count": null,
   "id": "696a1c2d",
   "metadata": {},
   "outputs": [],
   "source": [
    "\n",
    "\n",
    "#sparse_matrix list\n",
    "rows = filtered_data[\"user_id\"].values\n",
    "cols = filtered_data[\"item_id\"].values\n",
    "data = np.where(filtered_data[\"rating\"] >= 3, 1, 0) \n",
    "\n",
    "sparse_matrix = csr_matrix((data, (rows, cols)), shape=(n_users,n_items))"
   ]
  },
  {
   "cell_type": "code",
   "execution_count": null,
   "id": "1b965465",
   "metadata": {},
   "outputs": [],
   "source": [
    "n_users = filtered_data.user_id.unique().shape[0]\n",
    "n_items = filtered_data.item_id.unique().shape[0]\n",
    "n_items = filtered_data['item_id'].max()\n",
    "A = np.zeros((n_users,n_items))\n",
    "for line in dataset.itertuples():\n",
    "    A[line[1]-1,line[2]-1] = line[3]\n",
    "print(\"Original rating matrix : \",A)"
   ]
  },
  {
   "cell_type": "code",
   "execution_count": null,
   "id": "125def5e",
   "metadata": {},
   "outputs": [],
   "source": []
  },
  {
   "cell_type": "code",
   "execution_count": null,
   "id": "5a36b8f5",
   "metadata": {},
   "outputs": [],
   "source": []
  },
  {
   "cell_type": "code",
   "execution_count": null,
   "id": "ba45a68a",
   "metadata": {},
   "outputs": [],
   "source": []
  },
  {
   "cell_type": "code",
   "execution_count": null,
   "id": "c39bec8d",
   "metadata": {},
   "outputs": [],
   "source": [
    "import pandas as pd\n",
    "from sklearn.metrics.pairwise import cosine_similarity\n",
    "from sklearn.feature_extraction.text import CountVectorizer\n",
    "\n",
    "\n",
    "data = data.dropna(subset=['rating', 'user_id', 'item_id'])\n",
    "\n",
    "# Crear matriz de utilidad (usuario-ítem)\n",
    "utility_matrix = data.pivot_table(index='item_id', columns='user_id', values='rating', fill_value=0)\n",
    "\n",
    "# Calcular la similitud entre ítems\n",
    "item_similarity = cosine_similarity(utility_matrix)\n",
    "item_similarity_df = pd.DataFrame(item_similarity, index=utility_matrix.index, columns=utility_matrix.index)\n",
    "\n",
    "# Ejemplo de ítems similares\n",
    "item_id = 123  # Cambiar por un ID válido\n",
    "similar_items = item_similarity_df[item_id].sort_values(ascending=False).head(5)\n",
    "print(similar_items)\n"
   ]
  },
  {
   "cell_type": "code",
   "execution_count": null,
   "id": "ada972e3",
   "metadata": {},
   "outputs": [],
   "source": [
    "n_items"
   ]
  },
  {
   "cell_type": "code",
   "execution_count": null,
   "id": "b739fa8f",
   "metadata": {},
   "outputs": [],
   "source": [
    "data.describe()"
   ]
  },
  {
   "cell_type": "code",
   "execution_count": null,
   "id": "35d8e916",
   "metadata": {},
   "outputs": [],
   "source": [
    "counts = data['item_id'].value_counts()\n",
    "counts"
   ]
  },
  {
   "cell_type": "code",
   "execution_count": null,
   "id": "17c7e8cd",
   "metadata": {},
   "outputs": [],
   "source": [
    "para"
   ]
  },
  {
   "cell_type": "code",
   "execution_count": null,
   "id": "908af5f4",
   "metadata": {},
   "outputs": [],
   "source": [
    "data.head()"
   ]
  },
  {
   "cell_type": "code",
   "execution_count": null,
   "id": "56496d22",
   "metadata": {},
   "outputs": [],
   "source": []
  },
  {
   "cell_type": "markdown",
   "id": "5de1a669",
   "metadata": {},
   "source": [
    "# Market basket analysis"
   ]
  },
  {
   "cell_type": "code",
   "execution_count": null,
   "id": "6bcfb760",
   "metadata": {},
   "outputs": [],
   "source": [
    "data = pd.read_csv('bread basket.csv')"
   ]
  },
  {
   "cell_type": "code",
   "execution_count": null,
   "id": "f8d3aa60",
   "metadata": {},
   "outputs": [],
   "source": [
    "data.head()"
   ]
  },
  {
   "cell_type": "code",
   "execution_count": null,
   "id": "2efd61d8",
   "metadata": {},
   "outputs": [],
   "source": [
    "data = data.drop(['date_time','period_day','weekday_weekend'], axis=1)"
   ]
  },
  {
   "cell_type": "code",
   "execution_count": null,
   "id": "0be4cf26",
   "metadata": {},
   "outputs": [],
   "source": [
    "data"
   ]
  },
  {
   "cell_type": "code",
   "execution_count": null,
   "id": "8cc93543",
   "metadata": {},
   "outputs": [],
   "source": [
    "data = data.groupby('Transaction')['Item'].apply(list)\n",
    "data"
   ]
  },
  {
   "cell_type": "code",
   "execution_count": null,
   "id": "6bf18d00",
   "metadata": {},
   "outputs": [],
   "source": [
    "data.info()"
   ]
  },
  {
   "cell_type": "code",
   "execution_count": null,
   "id": "1e9ed2f5",
   "metadata": {
    "scrolled": true
   },
   "outputs": [],
   "source": [
    "transactions = data.tolist()\n",
    "transactions"
   ]
  },
  {
   "cell_type": "code",
   "execution_count": null,
   "id": "93765df4",
   "metadata": {},
   "outputs": [],
   "source": [
    "items = list(set(item for transaction in transactions for item in transaction))\n",
    "\n",
    "items"
   ]
  },
  {
   "cell_type": "code",
   "execution_count": null,
   "id": "7fc5ae50",
   "metadata": {},
   "outputs": [],
   "source": [
    "encoded_data = pd.DataFrame(\n",
    "    [[item in transaction for item in items] for transaction in transactions],\n",
    "    columns=items\n",
    ")\n",
    "\n",
    "\n",
    "encoded_data.head()"
   ]
  },
  {
   "cell_type": "markdown",
   "id": "6e87f14f",
   "metadata": {},
   "source": [
    "# Apriori Algorithm"
   ]
  },
  {
   "cell_type": "code",
   "execution_count": null,
   "id": "9df4567d",
   "metadata": {},
   "outputs": [],
   "source": [
    "import time\n",
    "\n",
    "start_time = time.time()\n",
    "\n",
    "frequent_itemsets = apriori(encoded_data, min_support=0.01, use_colnames=True)\n",
    "frequent_itemsets\n",
    "\n",
    "# End timing\n",
    "end_time = time.time()\n",
    "\n",
    "# Calculate the time taken\n",
    "calculation_time = end_time - start_time\n",
    "\n",
    "print(\"Frequent Itemsets calculated in {:.2f} seconds.\".format(calculation_time))"
   ]
  },
  {
   "cell_type": "code",
   "execution_count": null,
   "id": "3cf26c69",
   "metadata": {},
   "outputs": [],
   "source": [
    "rules = association_rules(frequent_itemsets, metric = \"antecedent support\", min_threshold = 0.2, num_itemsets=0)\n",
    "rules.info()"
   ]
  },
  {
   "cell_type": "code",
   "execution_count": null,
   "id": "c0008bc9",
   "metadata": {},
   "outputs": [],
   "source": [
    "# Display the results\n",
    "from IPython.display import display\n",
    "\n",
    "print(\"Frequent Itemsets:\")\n",
    "display(frequent_itemsets.head())"
   ]
  },
  {
   "cell_type": "code",
   "execution_count": null,
   "id": "3a1bd01b",
   "metadata": {},
   "outputs": [],
   "source": [
    "print(\"\\nAssociation Rules:\")\n",
    "rules"
   ]
  },
  {
   "cell_type": "code",
   "execution_count": null,
   "id": "f64455ae",
   "metadata": {},
   "outputs": [],
   "source": [
    "print(encoded_data['Bread'].sum())\n",
    "print(encoded_data['Coffee'].sum())"
   ]
  },
  {
   "cell_type": "markdown",
   "id": "ed40ee50",
   "metadata": {},
   "source": [
    "# FP Growth Algorithm"
   ]
  },
  {
   "cell_type": "code",
   "execution_count": null,
   "id": "a8e6512a",
   "metadata": {},
   "outputs": [],
   "source": [
    "from mlxtend.frequent_patterns import fpgrowth\n",
    "start_time = time.time()\n",
    "\n",
    "\n",
    "# Evaluate the frequent item rules for fpgrowth function\n",
    "frequent_itemsets_fp = fpgrowth(encoded_data, min_support = 0.01, use_colnames = True)\n",
    "\n",
    "print(frequent_itemsets_fp)\n",
    "\n",
    "# End timing\n",
    "end_time = time.time()\n",
    "\n",
    "# Calculate the time taken\n",
    "calculation_time = end_time - start_time\n",
    "\n",
    "print(\"Frequent Itemsets calculated in {:.2f} seconds.\".format(calculation_time))"
   ]
  },
  {
   "cell_type": "code",
   "execution_count": null,
   "id": "16d09073",
   "metadata": {},
   "outputs": [],
   "source": [
    "from mlxtend.frequent_patterns import association_rules\n",
    "\n",
    "# Display the reles due to fp-growth algorithm\n",
    "rules_fp = association_rules(frequent_itemsets_fp, metric = \"confidence\", min_threshold = 0.3, num_itemsets=0)\n",
    "\n",
    "rules_fp"
   ]
  },
  {
   "cell_type": "code",
   "execution_count": null,
   "id": "9010fabc",
   "metadata": {},
   "outputs": [],
   "source": []
  },
  {
   "cell_type": "code",
   "execution_count": null,
   "id": "185c95fd",
   "metadata": {},
   "outputs": [],
   "source": []
  }
 ],
 "metadata": {
  "kernelspec": {
   "display_name": "Python 3 (ipykernel)",
   "language": "python",
   "name": "python3"
  },
  "language_info": {
   "codemirror_mode": {
    "name": "ipython",
    "version": 3
   },
   "file_extension": ".py",
   "mimetype": "text/x-python",
   "name": "python",
   "nbconvert_exporter": "python",
   "pygments_lexer": "ipython3",
   "version": "3.12.7"
  }
 },
 "nbformat": 4,
 "nbformat_minor": 5
}

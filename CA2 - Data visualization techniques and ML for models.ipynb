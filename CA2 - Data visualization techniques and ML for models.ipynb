{
 "cells": [
  {
   "cell_type": "markdown",
   "id": "a68fbf83",
   "metadata": {},
   "source": [
    "# Recommendation System"
   ]
  },
  {
   "cell_type": "code",
   "execution_count": 1,
   "id": "3df2a902",
   "metadata": {},
   "outputs": [],
   "source": [
    "import pandas as pd\n",
    "import numpy as np\n",
    "from mlxtend.frequent_patterns import apriori, association_rules"
   ]
  },
  {
   "cell_type": "markdown",
   "id": "a1ecfd72-394d-49db-b99a-ae599cd87cb4",
   "metadata": {},
   "source": [
    "### Content based recommender"
   ]
  },
  {
   "cell_type": "code",
   "execution_count": 2,
   "id": "80f36af5",
   "metadata": {},
   "outputs": [],
   "source": [
    "data = pd.read_json('renttherunway_final_data.json', lines=True)\n",
    "#data = data.iloc[:10000, :]\n",
    "data = data.dropna()"
   ]
  },
  {
   "cell_type": "code",
   "execution_count": 3,
   "id": "5294ebf5-1eeb-4fe7-8d0a-d4110c6ebba2",
   "metadata": {},
   "outputs": [],
   "source": [
    "# 1. Count the frequency of each user_id\n",
    "user_counts = data['user_id'].value_counts()"
   ]
  },
  {
   "cell_type": "code",
   "execution_count": 4,
   "id": "13caac0c-6d8c-4097-8032-0851a08e791b",
   "metadata": {},
   "outputs": [
    {
     "data": {
      "text/html": [
       "<div>\n",
       "<style scoped>\n",
       "    .dataframe tbody tr th:only-of-type {\n",
       "        vertical-align: middle;\n",
       "    }\n",
       "\n",
       "    .dataframe tbody tr th {\n",
       "        vertical-align: top;\n",
       "    }\n",
       "\n",
       "    .dataframe thead th {\n",
       "        text-align: right;\n",
       "    }\n",
       "</style>\n",
       "<table border=\"1\" class=\"dataframe\">\n",
       "  <thead>\n",
       "    <tr style=\"text-align: right;\">\n",
       "      <th></th>\n",
       "      <th>fit</th>\n",
       "      <th>user_id</th>\n",
       "      <th>bust size</th>\n",
       "      <th>item_id</th>\n",
       "      <th>weight</th>\n",
       "      <th>rating</th>\n",
       "      <th>rented for</th>\n",
       "      <th>review_text</th>\n",
       "      <th>body type</th>\n",
       "      <th>review_summary</th>\n",
       "      <th>category</th>\n",
       "      <th>height</th>\n",
       "      <th>size</th>\n",
       "      <th>age</th>\n",
       "      <th>review_date</th>\n",
       "    </tr>\n",
       "  </thead>\n",
       "  <tbody>\n",
       "    <tr>\n",
       "      <th>0</th>\n",
       "      <td>fit</td>\n",
       "      <td>420272</td>\n",
       "      <td>34d</td>\n",
       "      <td>2260466</td>\n",
       "      <td>137lbs</td>\n",
       "      <td>10.0</td>\n",
       "      <td>vacation</td>\n",
       "      <td>An adorable romper! Belt and zipper were a lit...</td>\n",
       "      <td>hourglass</td>\n",
       "      <td>So many compliments!</td>\n",
       "      <td>romper</td>\n",
       "      <td>5' 8\"</td>\n",
       "      <td>14</td>\n",
       "      <td>28.0</td>\n",
       "      <td>April 20, 2016</td>\n",
       "    </tr>\n",
       "    <tr>\n",
       "      <th>4</th>\n",
       "      <td>fit</td>\n",
       "      <td>151944</td>\n",
       "      <td>34b</td>\n",
       "      <td>616682</td>\n",
       "      <td>145lbs</td>\n",
       "      <td>10.0</td>\n",
       "      <td>wedding</td>\n",
       "      <td>I have always been petite in my upper body and...</td>\n",
       "      <td>athletic</td>\n",
       "      <td>Was in love with this dress !!!</td>\n",
       "      <td>gown</td>\n",
       "      <td>5' 9\"</td>\n",
       "      <td>12</td>\n",
       "      <td>27.0</td>\n",
       "      <td>September 26, 2016</td>\n",
       "    </tr>\n",
       "    <tr>\n",
       "      <th>6</th>\n",
       "      <td>fit</td>\n",
       "      <td>336066</td>\n",
       "      <td>34c</td>\n",
       "      <td>568429</td>\n",
       "      <td>112lbs</td>\n",
       "      <td>10.0</td>\n",
       "      <td>everyday</td>\n",
       "      <td>This dress is so sweet. I loved the print. The...</td>\n",
       "      <td>hourglass</td>\n",
       "      <td>LITERALLY THE CUTEST DRESS EVER</td>\n",
       "      <td>dress</td>\n",
       "      <td>5' 3\"</td>\n",
       "      <td>4</td>\n",
       "      <td>27.0</td>\n",
       "      <td>December 7, 2017</td>\n",
       "    </tr>\n",
       "    <tr>\n",
       "      <th>9</th>\n",
       "      <td>fit</td>\n",
       "      <td>154309</td>\n",
       "      <td>32b</td>\n",
       "      <td>1729232</td>\n",
       "      <td>114lbs</td>\n",
       "      <td>10.0</td>\n",
       "      <td>formal affair</td>\n",
       "      <td>The dress was very flattering and fit perfectl...</td>\n",
       "      <td>petite</td>\n",
       "      <td>This dress was everything! It was perfect for ...</td>\n",
       "      <td>gown</td>\n",
       "      <td>5' 3\"</td>\n",
       "      <td>1</td>\n",
       "      <td>33.0</td>\n",
       "      <td>October 17, 2016</td>\n",
       "    </tr>\n",
       "    <tr>\n",
       "      <th>17</th>\n",
       "      <td>fit</td>\n",
       "      <td>339899</td>\n",
       "      <td>34d</td>\n",
       "      <td>1622747</td>\n",
       "      <td>143lbs</td>\n",
       "      <td>10.0</td>\n",
       "      <td>party</td>\n",
       "      <td>Little tight, but loved this dress!!!</td>\n",
       "      <td>athletic</td>\n",
       "      <td>LOVED</td>\n",
       "      <td>dress</td>\n",
       "      <td>5' 5\"</td>\n",
       "      <td>12</td>\n",
       "      <td>26.0</td>\n",
       "      <td>November 13, 2017</td>\n",
       "    </tr>\n",
       "  </tbody>\n",
       "</table>\n",
       "</div>"
      ],
      "text/plain": [
       "    fit  user_id bust size  item_id  weight  rating     rented for  \\\n",
       "0   fit   420272       34d  2260466  137lbs    10.0       vacation   \n",
       "4   fit   151944       34b   616682  145lbs    10.0        wedding   \n",
       "6   fit   336066       34c   568429  112lbs    10.0       everyday   \n",
       "9   fit   154309       32b  1729232  114lbs    10.0  formal affair   \n",
       "17  fit   339899       34d  1622747  143lbs    10.0          party   \n",
       "\n",
       "                                          review_text  body type  \\\n",
       "0   An adorable romper! Belt and zipper were a lit...  hourglass   \n",
       "4   I have always been petite in my upper body and...   athletic   \n",
       "6   This dress is so sweet. I loved the print. The...  hourglass   \n",
       "9   The dress was very flattering and fit perfectl...     petite   \n",
       "17              Little tight, but loved this dress!!!   athletic   \n",
       "\n",
       "                                       review_summary category height  size  \\\n",
       "0                                So many compliments!   romper  5' 8\"    14   \n",
       "4                     Was in love with this dress !!!     gown  5' 9\"    12   \n",
       "6                     LITERALLY THE CUTEST DRESS EVER    dress  5' 3\"     4   \n",
       "9   This dress was everything! It was perfect for ...     gown  5' 3\"     1   \n",
       "17                                              LOVED    dress  5' 5\"    12   \n",
       "\n",
       "     age         review_date  \n",
       "0   28.0      April 20, 2016  \n",
       "4   27.0  September 26, 2016  \n",
       "6   27.0    December 7, 2017  \n",
       "9   33.0    October 17, 2016  \n",
       "17  26.0   November 13, 2017  "
      ]
     },
     "execution_count": 4,
     "metadata": {},
     "output_type": "execute_result"
    }
   ],
   "source": [
    "# 2. Filter the dataset to only include user_id's with count >= 5\n",
    "frequent_users = user_counts[user_counts >= 5].index\n",
    "filtered_data = data[data['user_id'].isin(frequent_users)]\n",
    "\n",
    "# Display the filtered dataset\n",
    "filtered_data.head()\n"
   ]
  },
  {
   "cell_type": "code",
   "execution_count": 5,
   "id": "b2fec344-8e76-4016-bae3-c96161231903",
   "metadata": {},
   "outputs": [
    {
     "name": "stdout",
     "output_type": "stream",
     "text": [
      "<class 'pandas.core.frame.DataFrame'>\n",
      "Index: 41912 entries, 0 to 192541\n",
      "Data columns (total 15 columns):\n",
      " #   Column          Non-Null Count  Dtype  \n",
      "---  ------          --------------  -----  \n",
      " 0   fit             41912 non-null  object \n",
      " 1   user_id         41912 non-null  int64  \n",
      " 2   bust size       41912 non-null  object \n",
      " 3   item_id         41912 non-null  int64  \n",
      " 4   weight          41912 non-null  object \n",
      " 5   rating          41912 non-null  float64\n",
      " 6   rented for      41912 non-null  object \n",
      " 7   review_text     41912 non-null  object \n",
      " 8   body type       41912 non-null  object \n",
      " 9   review_summary  41912 non-null  object \n",
      " 10  category        41912 non-null  object \n",
      " 11  height          41912 non-null  object \n",
      " 12  size            41912 non-null  int64  \n",
      " 13  age             41912 non-null  float64\n",
      " 14  review_date     41912 non-null  object \n",
      "dtypes: float64(2), int64(3), object(10)\n",
      "memory usage: 5.1+ MB\n"
     ]
    }
   ],
   "source": [
    "filtered_data.info()"
   ]
  },
  {
   "cell_type": "code",
   "execution_count": 6,
   "id": "cfe7f45e-4a73-4934-8a8a-4b4aedbe2452",
   "metadata": {},
   "outputs": [
    {
     "data": {
      "text/html": [
       "<div>\n",
       "<style scoped>\n",
       "    .dataframe tbody tr th:only-of-type {\n",
       "        vertical-align: middle;\n",
       "    }\n",
       "\n",
       "    .dataframe tbody tr th {\n",
       "        vertical-align: top;\n",
       "    }\n",
       "\n",
       "    .dataframe thead th {\n",
       "        text-align: right;\n",
       "    }\n",
       "</style>\n",
       "<table border=\"1\" class=\"dataframe\">\n",
       "  <thead>\n",
       "    <tr style=\"text-align: right;\">\n",
       "      <th></th>\n",
       "      <th>item_id</th>\n",
       "      <th>review_text</th>\n",
       "    </tr>\n",
       "  </thead>\n",
       "  <tbody>\n",
       "    <tr>\n",
       "      <th>0</th>\n",
       "      <td>123373</td>\n",
       "      <td>This dress was perfect for my black and white ...</td>\n",
       "    </tr>\n",
       "    <tr>\n",
       "      <th>1</th>\n",
       "      <td>123793</td>\n",
       "      <td>This dress is STUNNING! Everyone loved this dr...</td>\n",
       "    </tr>\n",
       "    <tr>\n",
       "      <th>2</th>\n",
       "      <td>124204</td>\n",
       "      <td>Wore this w/ red patent pumps to match the red...</td>\n",
       "    </tr>\n",
       "    <tr>\n",
       "      <th>3</th>\n",
       "      <td>124553</td>\n",
       "      <td>I went a size down on this dress and it fit pe...</td>\n",
       "    </tr>\n",
       "    <tr>\n",
       "      <th>4</th>\n",
       "      <td>125424</td>\n",
       "      <td>This dress was very flattering and comfortable...</td>\n",
       "    </tr>\n",
       "    <tr>\n",
       "      <th>...</th>\n",
       "      <td>...</td>\n",
       "      <td>...</td>\n",
       "    </tr>\n",
       "    <tr>\n",
       "      <th>5293</th>\n",
       "      <td>2963850</td>\n",
       "      <td>This skirt is super cute. The waistline hits a...</td>\n",
       "    </tr>\n",
       "    <tr>\n",
       "      <th>5294</th>\n",
       "      <td>2964470</td>\n",
       "      <td>I loved this sweater from Tory Burch. I didn't...</td>\n",
       "    </tr>\n",
       "    <tr>\n",
       "      <th>5295</th>\n",
       "      <td>2965009</td>\n",
       "      <td>This fur coat was SO fun to wear, and actually...</td>\n",
       "    </tr>\n",
       "    <tr>\n",
       "      <th>5296</th>\n",
       "      <td>2965924</td>\n",
       "      <td>I ordered a size 10 and should have gone down ...</td>\n",
       "    </tr>\n",
       "    <tr>\n",
       "      <th>5297</th>\n",
       "      <td>2966087</td>\n",
       "      <td>I am so in love with these pants! So comfy and...</td>\n",
       "    </tr>\n",
       "  </tbody>\n",
       "</table>\n",
       "<p>5298 rows × 2 columns</p>\n",
       "</div>"
      ],
      "text/plain": [
       "      item_id                                        review_text\n",
       "0      123373  This dress was perfect for my black and white ...\n",
       "1      123793  This dress is STUNNING! Everyone loved this dr...\n",
       "2      124204  Wore this w/ red patent pumps to match the red...\n",
       "3      124553  I went a size down on this dress and it fit pe...\n",
       "4      125424  This dress was very flattering and comfortable...\n",
       "...       ...                                                ...\n",
       "5293  2963850  This skirt is super cute. The waistline hits a...\n",
       "5294  2964470  I loved this sweater from Tory Burch. I didn't...\n",
       "5295  2965009  This fur coat was SO fun to wear, and actually...\n",
       "5296  2965924  I ordered a size 10 and should have gone down ...\n",
       "5297  2966087  I am so in love with these pants! So comfy and...\n",
       "\n",
       "[5298 rows x 2 columns]"
      ]
     },
     "execution_count": 6,
     "metadata": {},
     "output_type": "execute_result"
    }
   ],
   "source": [
    "grouped_reviews = filtered_data.groupby('item_id')['review_text'].apply(' '.join).reset_index()\n",
    "grouped_reviews"
   ]
  },
  {
   "cell_type": "code",
   "execution_count": 7,
   "id": "fa52f040-945b-403e-be41-df0043df71a4",
   "metadata": {},
   "outputs": [
    {
     "data": {
      "text/plain": [
       "(5298, 15406)"
      ]
     },
     "execution_count": 7,
     "metadata": {},
     "output_type": "execute_result"
    }
   ],
   "source": [
    "#Import TfIdfVectorizer from the scikit-learn librarydata.head()\n",
    "from sklearn.feature_extraction.text import TfidfVectorizer\n",
    "\n",
    "#Define a TF-IDF Vectorizer Object. Remove all english stopwords\n",
    "tfidf = TfidfVectorizer(stop_words='english')\n",
    "\n",
    "#Replace NaN with an empty string\n",
    "grouped_reviews['review_text'] = grouped_reviews['review_text'].fillna('')\n",
    "\n",
    "#Construct the required TF-IDF matrix by applying the fit_transform method on the overview feature\n",
    "tfidf_matrix = tfidf.fit_transform(grouped_reviews['review_text'])\n",
    "\n",
    "#Output the shape of tfidf_matrix\n",
    "tfidf_matrix.shape"
   ]
  },
  {
   "cell_type": "code",
   "execution_count": 8,
   "id": "81a41119-bfa5-4060-988f-d6036971189d",
   "metadata": {},
   "outputs": [],
   "source": [
    "# Import linear_kernel to compute the dot product\n",
    "from sklearn.metrics.pairwise import linear_kernel\n",
    "\n",
    "# Compute the cosine similarity matrix\n",
    "#cosine_sim = linear_kernel(tfidf_matrix[:10000], tfidf_matrix[:10000])\n",
    "cosine_sim = linear_kernel(tfidf_matrix, tfidf_matrix)"
   ]
  },
  {
   "cell_type": "code",
   "execution_count": 9,
   "id": "71420f3d-b0b9-413e-a28b-ab143b0d5a23",
   "metadata": {},
   "outputs": [
    {
     "data": {
      "text/plain": [
       "(5298, 5298)"
      ]
     },
     "execution_count": 9,
     "metadata": {},
     "output_type": "execute_result"
    }
   ],
   "source": [
    "cosine_sim.shape"
   ]
  },
  {
   "cell_type": "code",
   "execution_count": 10,
   "id": "0065cd92-f971-46d8-bd58-e57a9f861210",
   "metadata": {},
   "outputs": [
    {
     "data": {
      "text/plain": [
       "array([0.61765174, 1.        , 0.62895881, ..., 0.06885026, 0.09520279,\n",
       "       0.1844313 ])"
      ]
     },
     "execution_count": 10,
     "metadata": {},
     "output_type": "execute_result"
    }
   ],
   "source": [
    "cosine_sim[1]"
   ]
  },
  {
   "cell_type": "code",
   "execution_count": 11,
   "id": "3a803529-5aa3-4b2e-abb0-7198c3d7dd6c",
   "metadata": {},
   "outputs": [
    {
     "data": {
      "text/plain": [
       "<bound method Series.info of item_id\n",
       "123373        0\n",
       "123793        1\n",
       "124204        2\n",
       "124553        3\n",
       "125424        4\n",
       "           ... \n",
       "2963850    5293\n",
       "2964470    5294\n",
       "2965009    5295\n",
       "2965924    5296\n",
       "2966087    5297\n",
       "Length: 5298, dtype: int64>"
      ]
     },
     "execution_count": 11,
     "metadata": {},
     "output_type": "execute_result"
    }
   ],
   "source": [
    "#Construct a reverse mapping of indices and item titles, and drop duplicate titles, if any\n",
    "indices = pd.Series(grouped_reviews.index, index=grouped_reviews['item_id']).drop_duplicates()\n",
    "indices.info"
   ]
  },
  {
   "cell_type": "code",
   "execution_count": 12,
   "id": "65c340af-0c12-4674-bcb2-6cf42b63b5b8",
   "metadata": {},
   "outputs": [
    {
     "data": {
      "text/plain": [
       "item_id\n",
       "123373    0\n",
       "123793    1\n",
       "124204    2\n",
       "124553    3\n",
       "125424    4\n",
       "125465    5\n",
       "125564    6\n",
       "126335    7\n",
       "127081    8\n",
       "127495    9\n",
       "dtype: int64"
      ]
     },
     "execution_count": 12,
     "metadata": {},
     "output_type": "execute_result"
    }
   ],
   "source": [
    "indices[:10]"
   ]
  },
  {
   "cell_type": "code",
   "execution_count": 13,
   "id": "bf69872d-48ea-4eac-91a0-4cb40ef12aa8",
   "metadata": {},
   "outputs": [],
   "source": [
    "# Function that takes in item title as input and gives recommendations \n",
    "def content_recommender(item_id, cosine_sim=cosine_sim):\n",
    "    # Obtain the index of the item that matches the title\n",
    "    idx = indices[item_id]\n",
    "\n",
    "    # Get the pairwsie similarity scores of all movies with that movie\n",
    "    # And convert it into a list of tuples as described above\n",
    "    sim_scores = list(enumerate(cosine_sim[idx]))\n",
    "\n",
    "    # Sort the movies based on the cosine similarity scores\n",
    "    sim_scores = sorted(sim_scores, key=lambda x: x[1], reverse=True)\n",
    "\n",
    "    # Get the scores of the 10 most similar movies. Ignore the first movie.\n",
    "    sim_scores = sim_scores[1:11]\n",
    "\n",
    "    # Get the movie indices\n",
    "    clothes_indices = [i[0] for i in sim_scores]\n",
    "\n",
    "    # Return the top 10 most similar movies\n",
    "    return grouped_reviews['item_id'].iloc[clothes_indices]"
   ]
  },
  {
   "cell_type": "code",
   "execution_count": 14,
   "id": "9b18fd1e-640e-44a5-b4a6-6b718f8817d2",
   "metadata": {},
   "outputs": [
    {
     "data": {
      "text/plain": [
       "(5298, 2)"
      ]
     },
     "execution_count": 14,
     "metadata": {},
     "output_type": "execute_result"
    }
   ],
   "source": [
    "grouped_reviews.shape"
   ]
  },
  {
   "cell_type": "code",
   "execution_count": 15,
   "id": "50fc23d0-5feb-4d98-a3f8-81a2396d5b01",
   "metadata": {},
   "outputs": [
    {
     "data": {
      "text/plain": [
       "20       132738\n",
       "7        126335\n",
       "10       127865\n",
       "47       145906\n",
       "91       168592\n",
       "17       131533\n",
       "16       131117\n",
       "37       141688\n",
       "2927    1687082\n",
       "1119     709832\n",
       "Name: item_id, dtype: int64"
      ]
     },
     "execution_count": 15,
     "metadata": {},
     "output_type": "execute_result"
    }
   ],
   "source": [
    "#Get recommendations for item: 2260466\n",
    "content_recommender(123793)"
   ]
  },
  {
   "cell_type": "markdown",
   "id": "8c373ec8-9dd4-4437-b03d-44b2fa42c22e",
   "metadata": {},
   "source": [
    "## Collaborative Filters"
   ]
  },
  {
   "cell_type": "code",
   "execution_count": 16,
   "id": "29cb9a18-3e85-4c6f-8537-e8bc86979d9e",
   "metadata": {},
   "outputs": [
    {
     "data": {
      "text/html": [
       "<div>\n",
       "<style scoped>\n",
       "    .dataframe tbody tr th:only-of-type {\n",
       "        vertical-align: middle;\n",
       "    }\n",
       "\n",
       "    .dataframe tbody tr th {\n",
       "        vertical-align: top;\n",
       "    }\n",
       "\n",
       "    .dataframe thead th {\n",
       "        text-align: right;\n",
       "    }\n",
       "</style>\n",
       "<table border=\"1\" class=\"dataframe\">\n",
       "  <thead>\n",
       "    <tr style=\"text-align: right;\">\n",
       "      <th></th>\n",
       "      <th>fit</th>\n",
       "      <th>user_id</th>\n",
       "      <th>bust size</th>\n",
       "      <th>item_id</th>\n",
       "      <th>weight</th>\n",
       "      <th>rating</th>\n",
       "      <th>rented for</th>\n",
       "      <th>review_text</th>\n",
       "      <th>body type</th>\n",
       "      <th>review_summary</th>\n",
       "      <th>category</th>\n",
       "      <th>height</th>\n",
       "      <th>size</th>\n",
       "      <th>age</th>\n",
       "      <th>review_date</th>\n",
       "    </tr>\n",
       "  </thead>\n",
       "  <tbody>\n",
       "    <tr>\n",
       "      <th>0</th>\n",
       "      <td>fit</td>\n",
       "      <td>420272</td>\n",
       "      <td>34d</td>\n",
       "      <td>2260466</td>\n",
       "      <td>137lbs</td>\n",
       "      <td>10.0</td>\n",
       "      <td>vacation</td>\n",
       "      <td>An adorable romper! Belt and zipper were a lit...</td>\n",
       "      <td>hourglass</td>\n",
       "      <td>So many compliments!</td>\n",
       "      <td>romper</td>\n",
       "      <td>5' 8\"</td>\n",
       "      <td>14</td>\n",
       "      <td>28.0</td>\n",
       "      <td>April 20, 2016</td>\n",
       "    </tr>\n",
       "    <tr>\n",
       "      <th>4</th>\n",
       "      <td>fit</td>\n",
       "      <td>151944</td>\n",
       "      <td>34b</td>\n",
       "      <td>616682</td>\n",
       "      <td>145lbs</td>\n",
       "      <td>10.0</td>\n",
       "      <td>wedding</td>\n",
       "      <td>I have always been petite in my upper body and...</td>\n",
       "      <td>athletic</td>\n",
       "      <td>Was in love with this dress !!!</td>\n",
       "      <td>gown</td>\n",
       "      <td>5' 9\"</td>\n",
       "      <td>12</td>\n",
       "      <td>27.0</td>\n",
       "      <td>September 26, 2016</td>\n",
       "    </tr>\n",
       "    <tr>\n",
       "      <th>6</th>\n",
       "      <td>fit</td>\n",
       "      <td>336066</td>\n",
       "      <td>34c</td>\n",
       "      <td>568429</td>\n",
       "      <td>112lbs</td>\n",
       "      <td>10.0</td>\n",
       "      <td>everyday</td>\n",
       "      <td>This dress is so sweet. I loved the print. The...</td>\n",
       "      <td>hourglass</td>\n",
       "      <td>LITERALLY THE CUTEST DRESS EVER</td>\n",
       "      <td>dress</td>\n",
       "      <td>5' 3\"</td>\n",
       "      <td>4</td>\n",
       "      <td>27.0</td>\n",
       "      <td>December 7, 2017</td>\n",
       "    </tr>\n",
       "    <tr>\n",
       "      <th>9</th>\n",
       "      <td>fit</td>\n",
       "      <td>154309</td>\n",
       "      <td>32b</td>\n",
       "      <td>1729232</td>\n",
       "      <td>114lbs</td>\n",
       "      <td>10.0</td>\n",
       "      <td>formal affair</td>\n",
       "      <td>The dress was very flattering and fit perfectl...</td>\n",
       "      <td>petite</td>\n",
       "      <td>This dress was everything! It was perfect for ...</td>\n",
       "      <td>gown</td>\n",
       "      <td>5' 3\"</td>\n",
       "      <td>1</td>\n",
       "      <td>33.0</td>\n",
       "      <td>October 17, 2016</td>\n",
       "    </tr>\n",
       "    <tr>\n",
       "      <th>17</th>\n",
       "      <td>fit</td>\n",
       "      <td>339899</td>\n",
       "      <td>34d</td>\n",
       "      <td>1622747</td>\n",
       "      <td>143lbs</td>\n",
       "      <td>10.0</td>\n",
       "      <td>party</td>\n",
       "      <td>Little tight, but loved this dress!!!</td>\n",
       "      <td>athletic</td>\n",
       "      <td>LOVED</td>\n",
       "      <td>dress</td>\n",
       "      <td>5' 5\"</td>\n",
       "      <td>12</td>\n",
       "      <td>26.0</td>\n",
       "      <td>November 13, 2017</td>\n",
       "    </tr>\n",
       "  </tbody>\n",
       "</table>\n",
       "</div>"
      ],
      "text/plain": [
       "    fit  user_id bust size  item_id  weight  rating     rented for  \\\n",
       "0   fit   420272       34d  2260466  137lbs    10.0       vacation   \n",
       "4   fit   151944       34b   616682  145lbs    10.0        wedding   \n",
       "6   fit   336066       34c   568429  112lbs    10.0       everyday   \n",
       "9   fit   154309       32b  1729232  114lbs    10.0  formal affair   \n",
       "17  fit   339899       34d  1622747  143lbs    10.0          party   \n",
       "\n",
       "                                          review_text  body type  \\\n",
       "0   An adorable romper! Belt and zipper were a lit...  hourglass   \n",
       "4   I have always been petite in my upper body and...   athletic   \n",
       "6   This dress is so sweet. I loved the print. The...  hourglass   \n",
       "9   The dress was very flattering and fit perfectl...     petite   \n",
       "17              Little tight, but loved this dress!!!   athletic   \n",
       "\n",
       "                                       review_summary category height  size  \\\n",
       "0                                So many compliments!   romper  5' 8\"    14   \n",
       "4                     Was in love with this dress !!!     gown  5' 9\"    12   \n",
       "6                     LITERALLY THE CUTEST DRESS EVER    dress  5' 3\"     4   \n",
       "9   This dress was everything! It was perfect for ...     gown  5' 3\"     1   \n",
       "17                                              LOVED    dress  5' 5\"    12   \n",
       "\n",
       "     age         review_date  \n",
       "0   28.0      April 20, 2016  \n",
       "4   27.0  September 26, 2016  \n",
       "6   27.0    December 7, 2017  \n",
       "9   33.0    October 17, 2016  \n",
       "17  26.0   November 13, 2017  "
      ]
     },
     "execution_count": 16,
     "metadata": {},
     "output_type": "execute_result"
    }
   ],
   "source": [
    "filtered_data.head(5)"
   ]
  },
  {
   "cell_type": "code",
   "execution_count": null,
   "id": "27be0002-b26f-485e-a7a4-7a5408c08826",
   "metadata": {},
   "outputs": [],
   "source": []
  },
  {
   "cell_type": "code",
   "execution_count": 17,
   "id": "cf30a038-193f-4885-b8e9-15c9f600f159",
   "metadata": {},
   "outputs": [],
   "source": [
    "data = filtered_data.drop(['fit','bust size','weight','rented for','review_text','body type','review_summary','category','height','size','age','review_date'], axis=1)"
   ]
  },
  {
   "cell_type": "code",
   "execution_count": 18,
   "id": "5294ad9b-aadf-44e0-9164-21784f219172",
   "metadata": {},
   "outputs": [
    {
     "name": "stdout",
     "output_type": "stream",
     "text": [
      "<class 'pandas.core.frame.DataFrame'>\n",
      "Index: 41912 entries, 0 to 192541\n",
      "Data columns (total 3 columns):\n",
      " #   Column   Non-Null Count  Dtype  \n",
      "---  ------   --------------  -----  \n",
      " 0   user_id  41912 non-null  int64  \n",
      " 1   item_id  41912 non-null  int64  \n",
      " 2   rating   41912 non-null  float64\n",
      "dtypes: float64(1), int64(2)\n",
      "memory usage: 1.3 MB\n"
     ]
    }
   ],
   "source": [
    "data.info()"
   ]
  },
  {
   "cell_type": "code",
   "execution_count": 19,
   "id": "ebc9d4dc-0b15-4aaf-ac87-ced97bf5c448",
   "metadata": {},
   "outputs": [],
   "source": [
    "#Import the train_test_split function\n",
    "from sklearn.model_selection import train_test_split\n",
    "\n",
    "#Assign X as the original ratings dataframe and y as the user_id column of ratings.\n",
    "X = data.copy()\n",
    "y = data['user_id']"
   ]
  },
  {
   "cell_type": "code",
   "execution_count": 20,
   "id": "93b587fa-04c4-4bc0-8e34-c73f2800980c",
   "metadata": {},
   "outputs": [],
   "source": [
    "#Split into training and test datasets, stratified along user_id\n",
    "X_train, X_test, y_train, y_test = train_test_split(X, y, test_size = 0.25, stratify=y, random_state=42)"
   ]
  },
  {
   "cell_type": "code",
   "execution_count": 21,
   "id": "3c1f7c15-675a-49be-8ca5-2fcf57ff6df8",
   "metadata": {},
   "outputs": [],
   "source": [
    "# #Split into training and test datasets, stratified along user_id\n",
    "# X_train, X_test, y_train, y_test = train_test_split(X, y, test_size = 0.25, random_state=42)"
   ]
  },
  {
   "cell_type": "code",
   "execution_count": 22,
   "id": "031d5a30-03f4-48bb-985a-d5981f9bdf07",
   "metadata": {},
   "outputs": [
    {
     "name": "stdout",
     "output_type": "stream",
     "text": [
      "0         420272\n",
      "4         151944\n",
      "6         336066\n",
      "9         154309\n",
      "17        339899\n",
      "           ...  \n",
      "192531    136279\n",
      "192534    582401\n",
      "192535    431280\n",
      "192539     66386\n",
      "192541     47002\n",
      "Name: user_id, Length: 41912, dtype: int64\n"
     ]
    }
   ],
   "source": [
    "print(y)\n"
   ]
  },
  {
   "cell_type": "code",
   "execution_count": 23,
   "id": "7af2dd28-6cd1-47ed-8162-4bad8191b999",
   "metadata": {},
   "outputs": [],
   "source": [
    "#Import the mean_squared_error function\n",
    "from sklearn.metrics import mean_squared_error\n",
    "\n",
    "#Function that computes the root mean squared error (or RMSE)\n",
    "def rmse(y_true, y_pred):\n",
    "    return np.sqrt(mean_squared_error(y_true, y_pred))"
   ]
  },
  {
   "cell_type": "code",
   "execution_count": 24,
   "id": "be18a135-57f9-4f3b-bf4f-bee77e03efb1",
   "metadata": {},
   "outputs": [],
   "source": [
    "#Define the baseline model to always return 5.\n",
    "def baseline(user_id, item_id):\n",
    "    return 5.0"
   ]
  },
  {
   "cell_type": "code",
   "execution_count": 25,
   "id": "ed30c498-6563-4d49-9de1-0d866f9ea35f",
   "metadata": {},
   "outputs": [],
   "source": [
    "#Function to compute the RMSE score obtained on the testing set by a model\n",
    "def score(cf_model):\n",
    "    \n",
    "    #Construct a list of user-item tuples from the testing dataset\n",
    "    id_pairs = zip(X_test['user_id'], X_test['item_id'])\n",
    "    \n",
    "    #Predict the rating for every user-item tuple\n",
    "    y_pred = np.array([cf_model(user, item) for (user, item) in id_pairs])\n",
    "    \n",
    "    #Extract the actual ratings given by the users in the test data\n",
    "    y_true = np.array(X_test['rating'])\n",
    "    \n",
    "    #Return the final RMSE score\n",
    "    return rmse(y_true, y_pred)"
   ]
  },
  {
   "cell_type": "code",
   "execution_count": 26,
   "id": "1055f940-ff4f-4373-b5d9-ff97b91bfabc",
   "metadata": {},
   "outputs": [
    {
     "data": {
      "text/plain": [
       "4.264203554318523"
      ]
     },
     "execution_count": 26,
     "metadata": {},
     "output_type": "execute_result"
    }
   ],
   "source": [
    "score(baseline)"
   ]
  },
  {
   "cell_type": "markdown",
   "id": "1e21dea4-cd2e-4322-9baa-00c333fd3946",
   "metadata": {},
   "source": [
    "## User based Collaborative Filtering"
   ]
  },
  {
   "cell_type": "markdown",
   "id": "75d11fe8-341b-49e1-ab84-662cc1826660",
   "metadata": {},
   "source": [
    "### Ratings Matrix"
   ]
  },
  {
   "cell_type": "code",
   "execution_count": 36,
   "id": "7b93d24f-79e2-4d86-b57f-96b14edfdf6c",
   "metadata": {},
   "outputs": [],
   "source": [
    "#Build the ratings matrix using pivot_table function\n",
    "r_matrix = X_train.pivot_table(values='rating', index='user_id', columns='item_id')"
   ]
  },
  {
   "cell_type": "markdown",
   "id": "d99e2b0d-f496-470b-9ca0-7ac736c2b873",
   "metadata": {},
   "source": [
    "### Mean"
   ]
  },
  {
   "cell_type": "code",
   "execution_count": 28,
   "id": "f16abc01-886d-4e49-8ce0-6d70cc9ac9a4",
   "metadata": {},
   "outputs": [],
   "source": [
    "#User Based Collaborative Filter using Mean Ratings\n",
    "def cf_user_mean(user_id, item_id):\n",
    "    \n",
    "    #Check if movie_id exists in r_matrix\n",
    "    if item_id in r_matrix:\n",
    "        #Compute the mean of all the ratings given to the movie\n",
    "        mean_rating = r_matrix[item_id].mean()\n",
    "    \n",
    "    else:\n",
    "        #Default to a rating of 5.0 in the absence of any information\n",
    "        mean_rating = 5.0\n",
    "    \n",
    "    return mean_rating"
   ]
  },
  {
   "cell_type": "code",
   "execution_count": 29,
   "id": "7ab0d8f7-45f4-48a9-8f5d-4cf4210a755d",
   "metadata": {},
   "outputs": [
    {
     "data": {
      "text/plain": [
       "1.6912718628825594"
      ]
     },
     "execution_count": 29,
     "metadata": {},
     "output_type": "execute_result"
    }
   ],
   "source": [
    "#Compute RMSE for the Mean model\n",
    "score(cf_user_mean)"
   ]
  },
  {
   "cell_type": "markdown",
   "id": "1f762b8b-2514-4e1d-b938-01765f2174b1",
   "metadata": {},
   "source": [
    "### Weighted Mean"
   ]
  },
  {
   "cell_type": "code",
   "execution_count": 40,
   "id": "cadca099-b267-4342-b854-df3764eaed9e",
   "metadata": {},
   "outputs": [],
   "source": [
    "#Create a dummy ratings matrix with all null values imputed to 0\n",
    "r_matrix = r_matrix.copy().fillna(0)"
   ]
  },
  {
   "cell_type": "code",
   "execution_count": 41,
   "id": "6af0c84d-6c9f-4723-9ff6-47d185c18c57",
   "metadata": {},
   "outputs": [],
   "source": [
    "# Import cosine_score \n",
    "from sklearn.metrics.pairwise import cosine_similarity\n",
    "\n",
    "#Compute the cosine similarity matrix using the dummy ratings matrix\n",
    "cosine_sim = cosine_similarity(r_matrix, r_matrix)"
   ]
  },
  {
   "cell_type": "code",
   "execution_count": 42,
   "id": "0e5c9b5d-0b9d-47e9-b2e7-7f4997cbf25a",
   "metadata": {},
   "outputs": [
    {
     "data": {
      "text/html": [
       "<div>\n",
       "<style scoped>\n",
       "    .dataframe tbody tr th:only-of-type {\n",
       "        vertical-align: middle;\n",
       "    }\n",
       "\n",
       "    .dataframe tbody tr th {\n",
       "        vertical-align: top;\n",
       "    }\n",
       "\n",
       "    .dataframe thead th {\n",
       "        text-align: right;\n",
       "    }\n",
       "</style>\n",
       "<table border=\"1\" class=\"dataframe\">\n",
       "  <thead>\n",
       "    <tr style=\"text-align: right;\">\n",
       "      <th>user_id</th>\n",
       "      <th>47</th>\n",
       "      <th>332</th>\n",
       "      <th>657</th>\n",
       "      <th>1023</th>\n",
       "      <th>1089</th>\n",
       "      <th>1171</th>\n",
       "      <th>1231</th>\n",
       "      <th>1328</th>\n",
       "      <th>1384</th>\n",
       "      <th>1434</th>\n",
       "      <th>...</th>\n",
       "      <th>998267</th>\n",
       "      <th>998336</th>\n",
       "      <th>998470</th>\n",
       "      <th>998563</th>\n",
       "      <th>999183</th>\n",
       "      <th>999274</th>\n",
       "      <th>999425</th>\n",
       "      <th>999431</th>\n",
       "      <th>999561</th>\n",
       "      <th>999910</th>\n",
       "    </tr>\n",
       "    <tr>\n",
       "      <th>user_id</th>\n",
       "      <th></th>\n",
       "      <th></th>\n",
       "      <th></th>\n",
       "      <th></th>\n",
       "      <th></th>\n",
       "      <th></th>\n",
       "      <th></th>\n",
       "      <th></th>\n",
       "      <th></th>\n",
       "      <th></th>\n",
       "      <th></th>\n",
       "      <th></th>\n",
       "      <th></th>\n",
       "      <th></th>\n",
       "      <th></th>\n",
       "      <th></th>\n",
       "      <th></th>\n",
       "      <th></th>\n",
       "      <th></th>\n",
       "      <th></th>\n",
       "      <th></th>\n",
       "    </tr>\n",
       "  </thead>\n",
       "  <tbody>\n",
       "    <tr>\n",
       "      <th>47</th>\n",
       "      <td>1.0</td>\n",
       "      <td>0.000000</td>\n",
       "      <td>0.000000</td>\n",
       "      <td>0.0</td>\n",
       "      <td>0.000000</td>\n",
       "      <td>0.0</td>\n",
       "      <td>0.0</td>\n",
       "      <td>0.0</td>\n",
       "      <td>0.000000</td>\n",
       "      <td>0.0</td>\n",
       "      <td>...</td>\n",
       "      <td>0.0</td>\n",
       "      <td>0.0</td>\n",
       "      <td>0.0</td>\n",
       "      <td>0.0</td>\n",
       "      <td>0.0</td>\n",
       "      <td>0.0</td>\n",
       "      <td>0.0</td>\n",
       "      <td>0.0</td>\n",
       "      <td>0.0</td>\n",
       "      <td>0.0</td>\n",
       "    </tr>\n",
       "    <tr>\n",
       "      <th>332</th>\n",
       "      <td>0.0</td>\n",
       "      <td>1.000000</td>\n",
       "      <td>0.202031</td>\n",
       "      <td>0.0</td>\n",
       "      <td>0.000000</td>\n",
       "      <td>0.0</td>\n",
       "      <td>0.0</td>\n",
       "      <td>0.0</td>\n",
       "      <td>0.000000</td>\n",
       "      <td>0.0</td>\n",
       "      <td>...</td>\n",
       "      <td>0.0</td>\n",
       "      <td>0.0</td>\n",
       "      <td>0.0</td>\n",
       "      <td>0.0</td>\n",
       "      <td>0.0</td>\n",
       "      <td>0.0</td>\n",
       "      <td>0.0</td>\n",
       "      <td>0.0</td>\n",
       "      <td>0.0</td>\n",
       "      <td>0.0</td>\n",
       "    </tr>\n",
       "    <tr>\n",
       "      <th>657</th>\n",
       "      <td>0.0</td>\n",
       "      <td>0.202031</td>\n",
       "      <td>1.000000</td>\n",
       "      <td>0.0</td>\n",
       "      <td>0.000000</td>\n",
       "      <td>0.0</td>\n",
       "      <td>0.0</td>\n",
       "      <td>0.0</td>\n",
       "      <td>0.000000</td>\n",
       "      <td>0.0</td>\n",
       "      <td>...</td>\n",
       "      <td>0.0</td>\n",
       "      <td>0.0</td>\n",
       "      <td>0.0</td>\n",
       "      <td>0.0</td>\n",
       "      <td>0.0</td>\n",
       "      <td>0.0</td>\n",
       "      <td>0.0</td>\n",
       "      <td>0.0</td>\n",
       "      <td>0.0</td>\n",
       "      <td>0.0</td>\n",
       "    </tr>\n",
       "    <tr>\n",
       "      <th>1023</th>\n",
       "      <td>0.0</td>\n",
       "      <td>0.000000</td>\n",
       "      <td>0.000000</td>\n",
       "      <td>1.0</td>\n",
       "      <td>0.000000</td>\n",
       "      <td>0.0</td>\n",
       "      <td>0.0</td>\n",
       "      <td>0.0</td>\n",
       "      <td>0.000000</td>\n",
       "      <td>0.0</td>\n",
       "      <td>...</td>\n",
       "      <td>0.0</td>\n",
       "      <td>0.0</td>\n",
       "      <td>0.0</td>\n",
       "      <td>0.0</td>\n",
       "      <td>0.0</td>\n",
       "      <td>0.0</td>\n",
       "      <td>0.0</td>\n",
       "      <td>0.0</td>\n",
       "      <td>0.0</td>\n",
       "      <td>0.0</td>\n",
       "    </tr>\n",
       "    <tr>\n",
       "      <th>1089</th>\n",
       "      <td>0.0</td>\n",
       "      <td>0.000000</td>\n",
       "      <td>0.000000</td>\n",
       "      <td>0.0</td>\n",
       "      <td>1.000000</td>\n",
       "      <td>0.0</td>\n",
       "      <td>0.0</td>\n",
       "      <td>0.0</td>\n",
       "      <td>0.117202</td>\n",
       "      <td>0.0</td>\n",
       "      <td>...</td>\n",
       "      <td>0.0</td>\n",
       "      <td>0.0</td>\n",
       "      <td>0.0</td>\n",
       "      <td>0.0</td>\n",
       "      <td>0.0</td>\n",
       "      <td>0.0</td>\n",
       "      <td>0.0</td>\n",
       "      <td>0.0</td>\n",
       "      <td>0.0</td>\n",
       "      <td>0.0</td>\n",
       "    </tr>\n",
       "    <tr>\n",
       "      <th>1171</th>\n",
       "      <td>0.0</td>\n",
       "      <td>0.000000</td>\n",
       "      <td>0.000000</td>\n",
       "      <td>0.0</td>\n",
       "      <td>0.000000</td>\n",
       "      <td>1.0</td>\n",
       "      <td>0.0</td>\n",
       "      <td>0.0</td>\n",
       "      <td>0.000000</td>\n",
       "      <td>0.0</td>\n",
       "      <td>...</td>\n",
       "      <td>0.0</td>\n",
       "      <td>0.0</td>\n",
       "      <td>0.0</td>\n",
       "      <td>0.0</td>\n",
       "      <td>0.0</td>\n",
       "      <td>0.0</td>\n",
       "      <td>0.0</td>\n",
       "      <td>0.0</td>\n",
       "      <td>0.0</td>\n",
       "      <td>0.0</td>\n",
       "    </tr>\n",
       "    <tr>\n",
       "      <th>1231</th>\n",
       "      <td>0.0</td>\n",
       "      <td>0.000000</td>\n",
       "      <td>0.000000</td>\n",
       "      <td>0.0</td>\n",
       "      <td>0.000000</td>\n",
       "      <td>0.0</td>\n",
       "      <td>1.0</td>\n",
       "      <td>0.0</td>\n",
       "      <td>0.000000</td>\n",
       "      <td>0.0</td>\n",
       "      <td>...</td>\n",
       "      <td>0.0</td>\n",
       "      <td>0.0</td>\n",
       "      <td>0.0</td>\n",
       "      <td>0.0</td>\n",
       "      <td>0.0</td>\n",
       "      <td>0.0</td>\n",
       "      <td>0.0</td>\n",
       "      <td>0.0</td>\n",
       "      <td>0.0</td>\n",
       "      <td>0.0</td>\n",
       "    </tr>\n",
       "    <tr>\n",
       "      <th>1328</th>\n",
       "      <td>0.0</td>\n",
       "      <td>0.000000</td>\n",
       "      <td>0.000000</td>\n",
       "      <td>0.0</td>\n",
       "      <td>0.000000</td>\n",
       "      <td>0.0</td>\n",
       "      <td>0.0</td>\n",
       "      <td>1.0</td>\n",
       "      <td>0.000000</td>\n",
       "      <td>0.0</td>\n",
       "      <td>...</td>\n",
       "      <td>0.0</td>\n",
       "      <td>0.0</td>\n",
       "      <td>0.0</td>\n",
       "      <td>0.0</td>\n",
       "      <td>0.0</td>\n",
       "      <td>0.0</td>\n",
       "      <td>0.0</td>\n",
       "      <td>0.0</td>\n",
       "      <td>0.0</td>\n",
       "      <td>0.0</td>\n",
       "    </tr>\n",
       "    <tr>\n",
       "      <th>1384</th>\n",
       "      <td>0.0</td>\n",
       "      <td>0.000000</td>\n",
       "      <td>0.000000</td>\n",
       "      <td>0.0</td>\n",
       "      <td>0.117202</td>\n",
       "      <td>0.0</td>\n",
       "      <td>0.0</td>\n",
       "      <td>0.0</td>\n",
       "      <td>1.000000</td>\n",
       "      <td>0.0</td>\n",
       "      <td>...</td>\n",
       "      <td>0.0</td>\n",
       "      <td>0.0</td>\n",
       "      <td>0.0</td>\n",
       "      <td>0.0</td>\n",
       "      <td>0.0</td>\n",
       "      <td>0.0</td>\n",
       "      <td>0.0</td>\n",
       "      <td>0.0</td>\n",
       "      <td>0.0</td>\n",
       "      <td>0.0</td>\n",
       "    </tr>\n",
       "    <tr>\n",
       "      <th>1434</th>\n",
       "      <td>0.0</td>\n",
       "      <td>0.000000</td>\n",
       "      <td>0.000000</td>\n",
       "      <td>0.0</td>\n",
       "      <td>0.000000</td>\n",
       "      <td>0.0</td>\n",
       "      <td>0.0</td>\n",
       "      <td>0.0</td>\n",
       "      <td>0.000000</td>\n",
       "      <td>1.0</td>\n",
       "      <td>...</td>\n",
       "      <td>0.0</td>\n",
       "      <td>0.0</td>\n",
       "      <td>0.0</td>\n",
       "      <td>0.0</td>\n",
       "      <td>0.0</td>\n",
       "      <td>0.0</td>\n",
       "      <td>0.0</td>\n",
       "      <td>0.0</td>\n",
       "      <td>0.0</td>\n",
       "      <td>0.0</td>\n",
       "    </tr>\n",
       "  </tbody>\n",
       "</table>\n",
       "<p>10 rows × 4653 columns</p>\n",
       "</div>"
      ],
      "text/plain": [
       "user_id  47        332       657     1023      1089    1171    1231    1328    \\\n",
       "user_id                                                                         \n",
       "47          1.0  0.000000  0.000000     0.0  0.000000     0.0     0.0     0.0   \n",
       "332         0.0  1.000000  0.202031     0.0  0.000000     0.0     0.0     0.0   \n",
       "657         0.0  0.202031  1.000000     0.0  0.000000     0.0     0.0     0.0   \n",
       "1023        0.0  0.000000  0.000000     1.0  0.000000     0.0     0.0     0.0   \n",
       "1089        0.0  0.000000  0.000000     0.0  1.000000     0.0     0.0     0.0   \n",
       "1171        0.0  0.000000  0.000000     0.0  0.000000     1.0     0.0     0.0   \n",
       "1231        0.0  0.000000  0.000000     0.0  0.000000     0.0     1.0     0.0   \n",
       "1328        0.0  0.000000  0.000000     0.0  0.000000     0.0     0.0     1.0   \n",
       "1384        0.0  0.000000  0.000000     0.0  0.117202     0.0     0.0     0.0   \n",
       "1434        0.0  0.000000  0.000000     0.0  0.000000     0.0     0.0     0.0   \n",
       "\n",
       "user_id    1384    1434    ...  998267  998336  998470  998563  999183  \\\n",
       "user_id                    ...                                           \n",
       "47       0.000000     0.0  ...     0.0     0.0     0.0     0.0     0.0   \n",
       "332      0.000000     0.0  ...     0.0     0.0     0.0     0.0     0.0   \n",
       "657      0.000000     0.0  ...     0.0     0.0     0.0     0.0     0.0   \n",
       "1023     0.000000     0.0  ...     0.0     0.0     0.0     0.0     0.0   \n",
       "1089     0.117202     0.0  ...     0.0     0.0     0.0     0.0     0.0   \n",
       "1171     0.000000     0.0  ...     0.0     0.0     0.0     0.0     0.0   \n",
       "1231     0.000000     0.0  ...     0.0     0.0     0.0     0.0     0.0   \n",
       "1328     0.000000     0.0  ...     0.0     0.0     0.0     0.0     0.0   \n",
       "1384     1.000000     0.0  ...     0.0     0.0     0.0     0.0     0.0   \n",
       "1434     0.000000     1.0  ...     0.0     0.0     0.0     0.0     0.0   \n",
       "\n",
       "user_id  999274  999425  999431  999561  999910  \n",
       "user_id                                          \n",
       "47          0.0     0.0     0.0     0.0     0.0  \n",
       "332         0.0     0.0     0.0     0.0     0.0  \n",
       "657         0.0     0.0     0.0     0.0     0.0  \n",
       "1023        0.0     0.0     0.0     0.0     0.0  \n",
       "1089        0.0     0.0     0.0     0.0     0.0  \n",
       "1171        0.0     0.0     0.0     0.0     0.0  \n",
       "1231        0.0     0.0     0.0     0.0     0.0  \n",
       "1328        0.0     0.0     0.0     0.0     0.0  \n",
       "1384        0.0     0.0     0.0     0.0     0.0  \n",
       "1434        0.0     0.0     0.0     0.0     0.0  \n",
       "\n",
       "[10 rows x 4653 columns]"
      ]
     },
     "execution_count": 42,
     "metadata": {},
     "output_type": "execute_result"
    }
   ],
   "source": [
    "#Convert into pandas dataframe \n",
    "cosine_sim = pd.DataFrame(cosine_sim, index=r_matrix.index, columns=r_matrix.index)\n",
    "\n",
    "cosine_sim.head(10)"
   ]
  },
  {
   "cell_type": "code",
   "execution_count": 43,
   "id": "55de37e1-b117-4d81-823e-f7ee1013f828",
   "metadata": {},
   "outputs": [],
   "source": [
    "#User Based Collaborative Filter using Weighted Mean Ratings\n",
    "def cf_user_wmean(user_id, item_id):\n",
    "    \n",
    "    #Check if item_id exists in r_matrix\n",
    "    if item_id in r_matrix:\n",
    "        \n",
    "        #Get the similarity scores for the user in question with every other user\n",
    "        sim_scores = cosine_sim[user_id]\n",
    "        \n",
    "        #Get the user ratings for the item in question\n",
    "        m_ratings = r_matrix[item_id]\n",
    "        \n",
    "        #Extract the indices containing NaN in the m_ratings series\n",
    "        idx = m_ratings[m_ratings.isnull()].index\n",
    "        \n",
    "        #Drop the NaN values from the m_ratings Series\n",
    "        m_ratings = m_ratings.dropna()\n",
    "        \n",
    "        #Drop the corresponding cosine scores from the sim_scores series\n",
    "        sim_scores = sim_scores.drop(idx)\n",
    "        \n",
    "        #Compute the final weighted mean\n",
    "        wmean_rating = np.dot(sim_scores, m_ratings)/ sim_scores.sum()\n",
    "    \n",
    "    else:\n",
    "        #Default to a rating of 3.0 in the absence of any information\n",
    "        wmean_rating = 5.0\n",
    "    \n",
    "    return wmean_rating"
   ]
  },
  {
   "cell_type": "code",
   "execution_count": 44,
   "id": "02cf0058-6614-4ab5-b7f7-8aa5b096f414",
   "metadata": {},
   "outputs": [
    {
     "data": {
      "text/plain": [
       "8.978087992027666"
      ]
     },
     "execution_count": 44,
     "metadata": {},
     "output_type": "execute_result"
    }
   ],
   "source": [
    "score(cf_user_wmean)"
   ]
  },
  {
   "cell_type": "markdown",
   "id": "de1a8964-d208-44f3-b753-03b59a26cf4f",
   "metadata": {},
   "source": [
    "## Demographics"
   ]
  },
  {
   "cell_type": "code",
   "execution_count": 45,
   "id": "e18234fb-7ee7-4c7a-8172-2a082314a177",
   "metadata": {},
   "outputs": [
    {
     "data": {
      "text/html": [
       "<div>\n",
       "<style scoped>\n",
       "    .dataframe tbody tr th:only-of-type {\n",
       "        vertical-align: middle;\n",
       "    }\n",
       "\n",
       "    .dataframe tbody tr th {\n",
       "        vertical-align: top;\n",
       "    }\n",
       "\n",
       "    .dataframe thead th {\n",
       "        text-align: right;\n",
       "    }\n",
       "</style>\n",
       "<table border=\"1\" class=\"dataframe\">\n",
       "  <thead>\n",
       "    <tr style=\"text-align: right;\">\n",
       "      <th></th>\n",
       "      <th>user_id</th>\n",
       "      <th>item_id</th>\n",
       "      <th>rating</th>\n",
       "      <th>fit</th>\n",
       "      <th>bust size</th>\n",
       "      <th>weight</th>\n",
       "      <th>rented for</th>\n",
       "      <th>review_text</th>\n",
       "      <th>body type</th>\n",
       "      <th>review_summary</th>\n",
       "      <th>category</th>\n",
       "      <th>height</th>\n",
       "      <th>size</th>\n",
       "      <th>age</th>\n",
       "      <th>review_date</th>\n",
       "    </tr>\n",
       "  </thead>\n",
       "  <tbody>\n",
       "    <tr>\n",
       "      <th>0</th>\n",
       "      <td>472391</td>\n",
       "      <td>699783</td>\n",
       "      <td>10.0</td>\n",
       "      <td>small</td>\n",
       "      <td>34c</td>\n",
       "      <td>130lbs</td>\n",
       "      <td>wedding</td>\n",
       "      <td>QUALITY! The quality of this dress is absolute...</td>\n",
       "      <td>athletic</td>\n",
       "      <td>RTR Team Review</td>\n",
       "      <td>dress</td>\n",
       "      <td>5' 6\"</td>\n",
       "      <td>8</td>\n",
       "      <td>25.0</td>\n",
       "      <td>September 27, 2017</td>\n",
       "    </tr>\n",
       "    <tr>\n",
       "      <th>1</th>\n",
       "      <td>726335</td>\n",
       "      <td>1845435</td>\n",
       "      <td>10.0</td>\n",
       "      <td>large</td>\n",
       "      <td>34a</td>\n",
       "      <td>160lbs</td>\n",
       "      <td>other</td>\n",
       "      <td>This dress does run somewhat big and small in ...</td>\n",
       "      <td>hourglass</td>\n",
       "      <td>Perfect dress for any formal Event!</td>\n",
       "      <td>gown</td>\n",
       "      <td>5' 4\"</td>\n",
       "      <td>12</td>\n",
       "      <td>35.0</td>\n",
       "      <td>June 2, 2017</td>\n",
       "    </tr>\n",
       "    <tr>\n",
       "      <th>2</th>\n",
       "      <td>128764</td>\n",
       "      <td>1859039</td>\n",
       "      <td>10.0</td>\n",
       "      <td>fit</td>\n",
       "      <td>34d</td>\n",
       "      <td>140lbs</td>\n",
       "      <td>party</td>\n",
       "      <td>Love this dress! Great fit, very comfortable, ...</td>\n",
       "      <td>hourglass</td>\n",
       "      <td>Love the lace back</td>\n",
       "      <td>dress</td>\n",
       "      <td>5' 8\"</td>\n",
       "      <td>14</td>\n",
       "      <td>30.0</td>\n",
       "      <td>March 10, 2014</td>\n",
       "    </tr>\n",
       "    <tr>\n",
       "      <th>3</th>\n",
       "      <td>248933</td>\n",
       "      <td>147594</td>\n",
       "      <td>8.0</td>\n",
       "      <td>fit</td>\n",
       "      <td>34d</td>\n",
       "      <td>110lbs</td>\n",
       "      <td>wedding</td>\n",
       "      <td>This is my first rent the runway experience an...</td>\n",
       "      <td>hourglass</td>\n",
       "      <td>Black tie optional wedding</td>\n",
       "      <td>shift</td>\n",
       "      <td>5' 0\"</td>\n",
       "      <td>8</td>\n",
       "      <td>26.0</td>\n",
       "      <td>November 23, 2015</td>\n",
       "    </tr>\n",
       "    <tr>\n",
       "      <th>4</th>\n",
       "      <td>520935</td>\n",
       "      <td>1090219</td>\n",
       "      <td>10.0</td>\n",
       "      <td>fit</td>\n",
       "      <td>34b</td>\n",
       "      <td>130lbs</td>\n",
       "      <td>work</td>\n",
       "      <td>This dress was PERFECT. Material was thick and...</td>\n",
       "      <td>athletic</td>\n",
       "      <td>Great Work Outfit</td>\n",
       "      <td>dress</td>\n",
       "      <td>5' 6\"</td>\n",
       "      <td>4</td>\n",
       "      <td>28.0</td>\n",
       "      <td>September 6, 2016</td>\n",
       "    </tr>\n",
       "  </tbody>\n",
       "</table>\n",
       "</div>"
      ],
      "text/plain": [
       "   user_id  item_id  rating    fit bust size  weight rented for  \\\n",
       "0   472391   699783    10.0  small       34c  130lbs    wedding   \n",
       "1   726335  1845435    10.0  large       34a  160lbs      other   \n",
       "2   128764  1859039    10.0    fit       34d  140lbs      party   \n",
       "3   248933   147594     8.0    fit       34d  110lbs    wedding   \n",
       "4   520935  1090219    10.0    fit       34b  130lbs       work   \n",
       "\n",
       "                                         review_text  body type  \\\n",
       "0  QUALITY! The quality of this dress is absolute...   athletic   \n",
       "1  This dress does run somewhat big and small in ...  hourglass   \n",
       "2  Love this dress! Great fit, very comfortable, ...  hourglass   \n",
       "3  This is my first rent the runway experience an...  hourglass   \n",
       "4  This dress was PERFECT. Material was thick and...   athletic   \n",
       "\n",
       "                        review_summary category height  size   age  \\\n",
       "0                      RTR Team Review    dress  5' 6\"     8  25.0   \n",
       "1  Perfect dress for any formal Event!     gown  5' 4\"    12  35.0   \n",
       "2                   Love the lace back    dress  5' 8\"    14  30.0   \n",
       "3           Black tie optional wedding    shift  5' 0\"     8  26.0   \n",
       "4                    Great Work Outfit    dress  5' 6\"     4  28.0   \n",
       "\n",
       "          review_date  \n",
       "0  September 27, 2017  \n",
       "1        June 2, 2017  \n",
       "2      March 10, 2014  \n",
       "3   November 23, 2015  \n",
       "4   September 6, 2016  "
      ]
     },
     "execution_count": 45,
     "metadata": {},
     "output_type": "execute_result"
    }
   ],
   "source": [
    "#Merge the original users dataframe with the training set \n",
    "merged_df = pd.merge(X_train, filtered_data)\n",
    "\n",
    "merged_df.head()"
   ]
  },
  {
   "cell_type": "code",
   "execution_count": 46,
   "id": "2cadd159-4434-4cd3-99f9-fe013b48655c",
   "metadata": {},
   "outputs": [
    {
     "data": {
      "text/plain": [
       "(31608, 15)"
      ]
     },
     "execution_count": 46,
     "metadata": {},
     "output_type": "execute_result"
    }
   ],
   "source": [
    "merged_df.shape"
   ]
  },
  {
   "cell_type": "code",
   "execution_count": 57,
   "id": "99d27fa8-28a0-49fd-a81c-dd786c492bc8",
   "metadata": {},
   "outputs": [
    {
     "data": {
      "text/html": [
       "<div>\n",
       "<style scoped>\n",
       "    .dataframe tbody tr th:only-of-type {\n",
       "        vertical-align: middle;\n",
       "    }\n",
       "\n",
       "    .dataframe tbody tr th {\n",
       "        vertical-align: top;\n",
       "    }\n",
       "\n",
       "    .dataframe thead tr th {\n",
       "        text-align: left;\n",
       "    }\n",
       "\n",
       "    .dataframe thead tr:last-of-type th {\n",
       "        text-align: right;\n",
       "    }\n",
       "</style>\n",
       "<table border=\"1\" class=\"dataframe\">\n",
       "  <thead>\n",
       "    <tr>\n",
       "      <th>fit</th>\n",
       "      <th colspan=\"10\" halign=\"left\">fit</th>\n",
       "      <th>...</th>\n",
       "      <th colspan=\"10\" halign=\"left\">small</th>\n",
       "    </tr>\n",
       "    <tr>\n",
       "      <th>weight</th>\n",
       "      <th>100lbs</th>\n",
       "      <th>101lbs</th>\n",
       "      <th>102lbs</th>\n",
       "      <th>103lbs</th>\n",
       "      <th>104lbs</th>\n",
       "      <th>105lbs</th>\n",
       "      <th>106lbs</th>\n",
       "      <th>107lbs</th>\n",
       "      <th>108lbs</th>\n",
       "      <th>109lbs</th>\n",
       "      <th>...</th>\n",
       "      <th>220lbs</th>\n",
       "      <th>225lbs</th>\n",
       "      <th>230lbs</th>\n",
       "      <th>250lbs</th>\n",
       "      <th>255lbs</th>\n",
       "      <th>260lbs</th>\n",
       "      <th>265lbs</th>\n",
       "      <th>89lbs</th>\n",
       "      <th>95lbs</th>\n",
       "      <th>98lbs</th>\n",
       "    </tr>\n",
       "    <tr>\n",
       "      <th>item_id</th>\n",
       "      <th></th>\n",
       "      <th></th>\n",
       "      <th></th>\n",
       "      <th></th>\n",
       "      <th></th>\n",
       "      <th></th>\n",
       "      <th></th>\n",
       "      <th></th>\n",
       "      <th></th>\n",
       "      <th></th>\n",
       "      <th></th>\n",
       "      <th></th>\n",
       "      <th></th>\n",
       "      <th></th>\n",
       "      <th></th>\n",
       "      <th></th>\n",
       "      <th></th>\n",
       "      <th></th>\n",
       "      <th></th>\n",
       "      <th></th>\n",
       "      <th></th>\n",
       "    </tr>\n",
       "  </thead>\n",
       "  <tbody>\n",
       "    <tr>\n",
       "      <th>123373</th>\n",
       "      <td>NaN</td>\n",
       "      <td>NaN</td>\n",
       "      <td>NaN</td>\n",
       "      <td>NaN</td>\n",
       "      <td>NaN</td>\n",
       "      <td>NaN</td>\n",
       "      <td>NaN</td>\n",
       "      <td>NaN</td>\n",
       "      <td>NaN</td>\n",
       "      <td>NaN</td>\n",
       "      <td>...</td>\n",
       "      <td>NaN</td>\n",
       "      <td>NaN</td>\n",
       "      <td>NaN</td>\n",
       "      <td>NaN</td>\n",
       "      <td>NaN</td>\n",
       "      <td>NaN</td>\n",
       "      <td>NaN</td>\n",
       "      <td>NaN</td>\n",
       "      <td>NaN</td>\n",
       "      <td>NaN</td>\n",
       "    </tr>\n",
       "    <tr>\n",
       "      <th>123793</th>\n",
       "      <td>NaN</td>\n",
       "      <td>10.0</td>\n",
       "      <td>NaN</td>\n",
       "      <td>NaN</td>\n",
       "      <td>NaN</td>\n",
       "      <td>NaN</td>\n",
       "      <td>NaN</td>\n",
       "      <td>NaN</td>\n",
       "      <td>NaN</td>\n",
       "      <td>NaN</td>\n",
       "      <td>...</td>\n",
       "      <td>NaN</td>\n",
       "      <td>NaN</td>\n",
       "      <td>NaN</td>\n",
       "      <td>NaN</td>\n",
       "      <td>NaN</td>\n",
       "      <td>NaN</td>\n",
       "      <td>NaN</td>\n",
       "      <td>NaN</td>\n",
       "      <td>NaN</td>\n",
       "      <td>NaN</td>\n",
       "    </tr>\n",
       "    <tr>\n",
       "      <th>124204</th>\n",
       "      <td>NaN</td>\n",
       "      <td>NaN</td>\n",
       "      <td>8.0</td>\n",
       "      <td>NaN</td>\n",
       "      <td>NaN</td>\n",
       "      <td>NaN</td>\n",
       "      <td>NaN</td>\n",
       "      <td>NaN</td>\n",
       "      <td>NaN</td>\n",
       "      <td>NaN</td>\n",
       "      <td>...</td>\n",
       "      <td>NaN</td>\n",
       "      <td>NaN</td>\n",
       "      <td>NaN</td>\n",
       "      <td>NaN</td>\n",
       "      <td>NaN</td>\n",
       "      <td>NaN</td>\n",
       "      <td>NaN</td>\n",
       "      <td>NaN</td>\n",
       "      <td>NaN</td>\n",
       "      <td>NaN</td>\n",
       "    </tr>\n",
       "    <tr>\n",
       "      <th>124553</th>\n",
       "      <td>NaN</td>\n",
       "      <td>NaN</td>\n",
       "      <td>NaN</td>\n",
       "      <td>NaN</td>\n",
       "      <td>NaN</td>\n",
       "      <td>NaN</td>\n",
       "      <td>NaN</td>\n",
       "      <td>NaN</td>\n",
       "      <td>8.0</td>\n",
       "      <td>NaN</td>\n",
       "      <td>...</td>\n",
       "      <td>NaN</td>\n",
       "      <td>NaN</td>\n",
       "      <td>NaN</td>\n",
       "      <td>NaN</td>\n",
       "      <td>NaN</td>\n",
       "      <td>NaN</td>\n",
       "      <td>NaN</td>\n",
       "      <td>NaN</td>\n",
       "      <td>NaN</td>\n",
       "      <td>NaN</td>\n",
       "    </tr>\n",
       "    <tr>\n",
       "      <th>125424</th>\n",
       "      <td>NaN</td>\n",
       "      <td>NaN</td>\n",
       "      <td>NaN</td>\n",
       "      <td>NaN</td>\n",
       "      <td>NaN</td>\n",
       "      <td>NaN</td>\n",
       "      <td>NaN</td>\n",
       "      <td>NaN</td>\n",
       "      <td>10.0</td>\n",
       "      <td>NaN</td>\n",
       "      <td>...</td>\n",
       "      <td>NaN</td>\n",
       "      <td>NaN</td>\n",
       "      <td>NaN</td>\n",
       "      <td>NaN</td>\n",
       "      <td>NaN</td>\n",
       "      <td>NaN</td>\n",
       "      <td>NaN</td>\n",
       "      <td>NaN</td>\n",
       "      <td>NaN</td>\n",
       "      <td>NaN</td>\n",
       "    </tr>\n",
       "  </tbody>\n",
       "</table>\n",
       "<p>5 rows × 307 columns</p>\n",
       "</div>"
      ],
      "text/plain": [
       "fit        fit                                                                 \\\n",
       "weight  100lbs 101lbs 102lbs 103lbs 104lbs 105lbs 106lbs 107lbs 108lbs 109lbs   \n",
       "item_id                                                                         \n",
       "123373     NaN    NaN    NaN    NaN    NaN    NaN    NaN    NaN    NaN    NaN   \n",
       "123793     NaN   10.0    NaN    NaN    NaN    NaN    NaN    NaN    NaN    NaN   \n",
       "124204     NaN    NaN    8.0    NaN    NaN    NaN    NaN    NaN    NaN    NaN   \n",
       "124553     NaN    NaN    NaN    NaN    NaN    NaN    NaN    NaN    8.0    NaN   \n",
       "125424     NaN    NaN    NaN    NaN    NaN    NaN    NaN    NaN   10.0    NaN   \n",
       "\n",
       "fit      ...  small                                                        \\\n",
       "weight   ... 220lbs 225lbs 230lbs 250lbs 255lbs 260lbs 265lbs 89lbs 95lbs   \n",
       "item_id  ...                                                                \n",
       "123373   ...    NaN    NaN    NaN    NaN    NaN    NaN    NaN   NaN   NaN   \n",
       "123793   ...    NaN    NaN    NaN    NaN    NaN    NaN    NaN   NaN   NaN   \n",
       "124204   ...    NaN    NaN    NaN    NaN    NaN    NaN    NaN   NaN   NaN   \n",
       "124553   ...    NaN    NaN    NaN    NaN    NaN    NaN    NaN   NaN   NaN   \n",
       "125424   ...    NaN    NaN    NaN    NaN    NaN    NaN    NaN   NaN   NaN   \n",
       "\n",
       "fit            \n",
       "weight  98lbs  \n",
       "item_id        \n",
       "123373    NaN  \n",
       "123793    NaN  \n",
       "124204    NaN  \n",
       "124553    NaN  \n",
       "125424    NaN  \n",
       "\n",
       "[5 rows x 307 columns]"
      ]
     },
     "execution_count": 57,
     "metadata": {},
     "output_type": "execute_result"
    }
   ],
   "source": [
    "#Compute the mean rating by fit and weight\n",
    "gen_occ_mean = merged_df[['fit', 'rating', 'item_id', 'weight']].pivot_table(\n",
    "    values='rating', index='item_id', columns=['fit', 'weight'], aggfunc='mean')\n",
    "\n",
    "gen_occ_mean.head()"
   ]
  },
  {
   "cell_type": "code",
   "execution_count": 58,
   "id": "920f460c-242c-4a02-a5fb-12d80ed493cf",
   "metadata": {},
   "outputs": [],
   "source": [
    "#Gender and Occupation Based Collaborative Filter using Mean Ratings\n",
    "def cf_gen_occ(user_id, item_id):\n",
    "    \n",
    "    #Check if movie_id exists in gen_occ_mean\n",
    "    if item_id in gen_occ_mean.index:\n",
    "        \n",
    "        #Identify the user\n",
    "        user = filtered_data.loc[user_id]\n",
    "        \n",
    "        #Identify the gender and occupation\n",
    "        fit = user['fit']\n",
    "        occ = user['weight']\n",
    "        \n",
    "        #Check if the occupation has rated the movie\n",
    "        if occ in gen_occ_mean.loc[item_id]:\n",
    "            \n",
    "            #Check if the gender has rated the movie\n",
    "            if fit in gen_occ_mean.loc[item_id][occ]:\n",
    "                \n",
    "                #Extract the required rating\n",
    "                rating = gen_occ_mean.loc[item_id][occ][fit]\n",
    "                \n",
    "                #Default to 5.0 if the rating is null\n",
    "                if np.isnan(rating):\n",
    "                    rating = 5.0\n",
    "                \n",
    "                return rating\n",
    "            \n",
    "    #Return the default rating    \n",
    "    return 5.0"
   ]
  },
  {
   "cell_type": "code",
   "execution_count": 59,
   "id": "2aea81ba-5b5d-407d-9002-c076d7870dd3",
   "metadata": {},
   "outputs": [
    {
     "name": "stderr",
     "output_type": "stream",
     "text": [
      "C:\\ProgramData\\anaconda3\\Lib\\site-packages\\executing\\executing.py:713: DeprecationWarning: ast.Str is deprecated and will be removed in Python 3.14; use ast.Constant instead\n",
      "  right=ast.Str(s=sentinel),\n",
      "C:\\ProgramData\\anaconda3\\Lib\\ast.py:587: DeprecationWarning: Attribute s is deprecated and will be removed in Python 3.14; use value instead\n",
      "  return Constant(*args, **kwargs)\n",
      "C:\\ProgramData\\anaconda3\\Lib\\site-packages\\executing\\executing.py:713: DeprecationWarning: ast.Str is deprecated and will be removed in Python 3.14; use ast.Constant instead\n",
      "  right=ast.Str(s=sentinel),\n",
      "C:\\ProgramData\\anaconda3\\Lib\\ast.py:587: DeprecationWarning: Attribute s is deprecated and will be removed in Python 3.14; use value instead\n",
      "  return Constant(*args, **kwargs)\n",
      "C:\\ProgramData\\anaconda3\\Lib\\site-packages\\executing\\executing.py:713: DeprecationWarning: ast.Str is deprecated and will be removed in Python 3.14; use ast.Constant instead\n",
      "  right=ast.Str(s=sentinel),\n",
      "C:\\ProgramData\\anaconda3\\Lib\\ast.py:587: DeprecationWarning: Attribute s is deprecated and will be removed in Python 3.14; use value instead\n",
      "  return Constant(*args, **kwargs)\n",
      "C:\\ProgramData\\anaconda3\\Lib\\site-packages\\executing\\executing.py:713: DeprecationWarning: ast.Str is deprecated and will be removed in Python 3.14; use ast.Constant instead\n",
      "  right=ast.Str(s=sentinel),\n",
      "C:\\ProgramData\\anaconda3\\Lib\\ast.py:587: DeprecationWarning: Attribute s is deprecated and will be removed in Python 3.14; use value instead\n",
      "  return Constant(*args, **kwargs)\n"
     ]
    },
    {
     "ename": "TypeError",
     "evalue": "unhashable type: 'Series'",
     "output_type": "error",
     "traceback": [
      "\u001b[1;31m---------------------------------------------------------------------------\u001b[0m",
      "\u001b[1;31mTypeError\u001b[0m                                 Traceback (most recent call last)",
      "Cell \u001b[1;32mIn[59], line 1\u001b[0m\n\u001b[1;32m----> 1\u001b[0m score(cf_gen_occ)\n",
      "Cell \u001b[1;32mIn[25], line 8\u001b[0m, in \u001b[0;36mscore\u001b[1;34m(cf_model)\u001b[0m\n\u001b[0;32m      5\u001b[0m id_pairs \u001b[38;5;241m=\u001b[39m \u001b[38;5;28mzip\u001b[39m(X_test[\u001b[38;5;124m'\u001b[39m\u001b[38;5;124muser_id\u001b[39m\u001b[38;5;124m'\u001b[39m], X_test[\u001b[38;5;124m'\u001b[39m\u001b[38;5;124mitem_id\u001b[39m\u001b[38;5;124m'\u001b[39m])\n\u001b[0;32m      7\u001b[0m \u001b[38;5;66;03m#Predict the rating for every user-item tuple\u001b[39;00m\n\u001b[1;32m----> 8\u001b[0m y_pred \u001b[38;5;241m=\u001b[39m np\u001b[38;5;241m.\u001b[39marray([cf_model(user, item) \u001b[38;5;28;01mfor\u001b[39;00m (user, item) \u001b[38;5;129;01min\u001b[39;00m id_pairs])\n\u001b[0;32m     10\u001b[0m \u001b[38;5;66;03m#Extract the actual ratings given by the users in the test data\u001b[39;00m\n\u001b[0;32m     11\u001b[0m y_true \u001b[38;5;241m=\u001b[39m np\u001b[38;5;241m.\u001b[39marray(X_test[\u001b[38;5;124m'\u001b[39m\u001b[38;5;124mrating\u001b[39m\u001b[38;5;124m'\u001b[39m])\n",
      "Cell \u001b[1;32mIn[58], line 15\u001b[0m, in \u001b[0;36mcf_gen_occ\u001b[1;34m(user_id, item_id)\u001b[0m\n\u001b[0;32m     12\u001b[0m occ \u001b[38;5;241m=\u001b[39m user[\u001b[38;5;124m'\u001b[39m\u001b[38;5;124mweight\u001b[39m\u001b[38;5;124m'\u001b[39m]\n\u001b[0;32m     14\u001b[0m \u001b[38;5;66;03m#Check if the occupation has rated the movie\u001b[39;00m\n\u001b[1;32m---> 15\u001b[0m \u001b[38;5;28;01mif\u001b[39;00m occ \u001b[38;5;129;01min\u001b[39;00m gen_occ_mean\u001b[38;5;241m.\u001b[39mloc[item_id]:\n\u001b[0;32m     16\u001b[0m     \n\u001b[0;32m     17\u001b[0m     \u001b[38;5;66;03m#Check if the gender has rated the movie\u001b[39;00m\n\u001b[0;32m     18\u001b[0m     \u001b[38;5;28;01mif\u001b[39;00m fit \u001b[38;5;129;01min\u001b[39;00m gen_occ_mean\u001b[38;5;241m.\u001b[39mloc[item_id][occ]:\n\u001b[0;32m     19\u001b[0m         \n\u001b[0;32m     20\u001b[0m         \u001b[38;5;66;03m#Extract the required rating\u001b[39;00m\n\u001b[0;32m     21\u001b[0m         rating \u001b[38;5;241m=\u001b[39m gen_occ_mean\u001b[38;5;241m.\u001b[39mloc[item_id][occ][fit]\n",
      "File \u001b[1;32mC:\\ProgramData\\anaconda3\\Lib\\site-packages\\pandas\\core\\generic.py:2080\u001b[0m, in \u001b[0;36mNDFrame.__contains__\u001b[1;34m(self, key)\u001b[0m\n\u001b[0;32m   2077\u001b[0m \u001b[38;5;129m@final\u001b[39m\n\u001b[0;32m   2078\u001b[0m \u001b[38;5;28;01mdef\u001b[39;00m \u001b[38;5;21m__contains__\u001b[39m(\u001b[38;5;28mself\u001b[39m, key) \u001b[38;5;241m-\u001b[39m\u001b[38;5;241m>\u001b[39m bool_t:\n\u001b[0;32m   2079\u001b[0m \u001b[38;5;250m    \u001b[39m\u001b[38;5;124;03m\"\"\"True if the key is in the info axis\"\"\"\u001b[39;00m\n\u001b[1;32m-> 2080\u001b[0m     \u001b[38;5;28;01mreturn\u001b[39;00m key \u001b[38;5;129;01min\u001b[39;00m \u001b[38;5;28mself\u001b[39m\u001b[38;5;241m.\u001b[39m_info_axis\n",
      "File \u001b[1;32mC:\\ProgramData\\anaconda3\\Lib\\site-packages\\pandas\\core\\indexes\\multi.py:1324\u001b[0m, in \u001b[0;36mMultiIndex.__contains__\u001b[1;34m(self, key)\u001b[0m\n\u001b[0;32m   1322\u001b[0m \u001b[38;5;129m@doc\u001b[39m(Index\u001b[38;5;241m.\u001b[39m\u001b[38;5;21m__contains__\u001b[39m)\n\u001b[0;32m   1323\u001b[0m \u001b[38;5;28;01mdef\u001b[39;00m \u001b[38;5;21m__contains__\u001b[39m(\u001b[38;5;28mself\u001b[39m, key: Any) \u001b[38;5;241m-\u001b[39m\u001b[38;5;241m>\u001b[39m \u001b[38;5;28mbool\u001b[39m:\n\u001b[1;32m-> 1324\u001b[0m     \u001b[38;5;28mhash\u001b[39m(key)\n\u001b[0;32m   1325\u001b[0m     \u001b[38;5;28;01mtry\u001b[39;00m:\n\u001b[0;32m   1326\u001b[0m         \u001b[38;5;28mself\u001b[39m\u001b[38;5;241m.\u001b[39mget_loc(key)\n",
      "\u001b[1;31mTypeError\u001b[0m: unhashable type: 'Series'"
     ]
    }
   ],
   "source": [
    "score(cf_gen_occ)"
   ]
  },
  {
   "cell_type": "code",
   "execution_count": 54,
   "id": "bccb48ed-3ca5-4de3-b8fc-16f45585bf77",
   "metadata": {},
   "outputs": [],
   "source": [
    "#Compute the mean rating of every movie by gender\n",
    "fit_mean = merged_df[['item_id', 'body type', 'rating']].groupby(['item_id', 'body type'])['rating'].mean()"
   ]
  },
  {
   "cell_type": "code",
   "execution_count": 55,
   "id": "7563e3a4-7cf7-45d0-b9d7-a6ca6da4465c",
   "metadata": {},
   "outputs": [
    {
     "data": {
      "text/plain": [
       "item_id  body type\n",
       "123373   apple         6.000000\n",
       "         athletic      9.333333\n",
       "         full bust     8.666667\n",
       "         hourglass     9.111111\n",
       "         pear          7.500000\n",
       "                        ...    \n",
       "2965924  hourglass     9.000000\n",
       "         petite       10.000000\n",
       "2966087  athletic      8.000000\n",
       "         hourglass    10.000000\n",
       "         petite       10.000000\n",
       "Name: rating, Length: 15810, dtype: float64"
      ]
     },
     "execution_count": 55,
     "metadata": {},
     "output_type": "execute_result"
    }
   ],
   "source": [
    "fit_mean"
   ]
  },
  {
   "cell_type": "code",
   "execution_count": 56,
   "id": "0e461f25-7c50-47d3-8a47-728446af5e24",
   "metadata": {},
   "outputs": [
    {
     "ename": "KeyError",
     "evalue": "\"None of ['user_id'] are in the columns\"",
     "output_type": "error",
     "traceback": [
      "\u001b[1;31m---------------------------------------------------------------------------\u001b[0m",
      "\u001b[1;31mKeyError\u001b[0m                                  Traceback (most recent call last)",
      "\u001b[1;32m~\\AppData\\Local\\Temp\\ipykernel_21748\\495320449.py\u001b[0m in \u001b[0;36m?\u001b[1;34m()\u001b[0m\n\u001b[1;32m----> 1\u001b[1;33m \u001b[0mfiltered_data\u001b[0m \u001b[1;33m=\u001b[0m \u001b[0mfiltered_data\u001b[0m\u001b[1;33m.\u001b[0m\u001b[0mset_index\u001b[0m\u001b[1;33m(\u001b[0m\u001b[1;34m'user_id'\u001b[0m\u001b[1;33m)\u001b[0m\u001b[1;33m\u001b[0m\u001b[1;33m\u001b[0m\u001b[0m\n\u001b[0m",
      "\u001b[1;32mC:\\ProgramData\\anaconda3\\Lib\\site-packages\\pandas\\core\\frame.py\u001b[0m in \u001b[0;36m?\u001b[1;34m(self, keys, drop, append, inplace, verify_integrity)\u001b[0m\n\u001b[0;32m   6118\u001b[0m                     \u001b[1;32mif\u001b[0m \u001b[1;32mnot\u001b[0m \u001b[0mfound\u001b[0m\u001b[1;33m:\u001b[0m\u001b[1;33m\u001b[0m\u001b[1;33m\u001b[0m\u001b[0m\n\u001b[0;32m   6119\u001b[0m                         \u001b[0mmissing\u001b[0m\u001b[1;33m.\u001b[0m\u001b[0mappend\u001b[0m\u001b[1;33m(\u001b[0m\u001b[0mcol\u001b[0m\u001b[1;33m)\u001b[0m\u001b[1;33m\u001b[0m\u001b[1;33m\u001b[0m\u001b[0m\n\u001b[0;32m   6120\u001b[0m \u001b[1;33m\u001b[0m\u001b[0m\n\u001b[0;32m   6121\u001b[0m         \u001b[1;32mif\u001b[0m \u001b[0mmissing\u001b[0m\u001b[1;33m:\u001b[0m\u001b[1;33m\u001b[0m\u001b[1;33m\u001b[0m\u001b[0m\n\u001b[1;32m-> 6122\u001b[1;33m             \u001b[1;32mraise\u001b[0m \u001b[0mKeyError\u001b[0m\u001b[1;33m(\u001b[0m\u001b[1;33mf\"\u001b[0m\u001b[1;33mNone of \u001b[0m\u001b[1;33m{\u001b[0m\u001b[0mmissing\u001b[0m\u001b[1;33m}\u001b[0m\u001b[1;33m are in the columns\u001b[0m\u001b[1;33m\"\u001b[0m\u001b[1;33m)\u001b[0m\u001b[1;33m\u001b[0m\u001b[1;33m\u001b[0m\u001b[0m\n\u001b[0m\u001b[0;32m   6123\u001b[0m \u001b[1;33m\u001b[0m\u001b[0m\n\u001b[0;32m   6124\u001b[0m         \u001b[1;32mif\u001b[0m \u001b[0minplace\u001b[0m\u001b[1;33m:\u001b[0m\u001b[1;33m\u001b[0m\u001b[1;33m\u001b[0m\u001b[0m\n\u001b[0;32m   6125\u001b[0m             \u001b[0mframe\u001b[0m \u001b[1;33m=\u001b[0m \u001b[0mself\u001b[0m\u001b[1;33m\u001b[0m\u001b[1;33m\u001b[0m\u001b[0m\n",
      "\u001b[1;31mKeyError\u001b[0m: \"None of ['user_id'] are in the columns\""
     ]
    }
   ],
   "source": [
    "filtered_data = filtered_data.set_index('user_id')"
   ]
  },
  {
   "cell_type": "code",
   "execution_count": 52,
   "id": "89ffce42-4038-4f1c-bd43-38efbfd5686e",
   "metadata": {},
   "outputs": [
    {
     "ename": "IndentationError",
     "evalue": "unexpected indent (1185798008.py, line 13)",
     "output_type": "error",
     "traceback": [
      "\u001b[1;36m  Cell \u001b[1;32mIn[52], line 13\u001b[1;36m\u001b[0m\n\u001b[1;33m    fit_rating = fit_mean[item_id][fit]\u001b[0m\n\u001b[1;37m    ^\u001b[0m\n\u001b[1;31mIndentationError\u001b[0m\u001b[1;31m:\u001b[0m unexpected indent\n"
     ]
    }
   ],
   "source": [
    "#Fit Based Collaborative Filter using Mean Ratings\n",
    "def cf_fit(user_id, item_id):\n",
    "    \n",
    "    #Check if movie_id exists in r_matrix (or training set)\n",
    "    if item_id in r_matrix:\n",
    "        #Identify the fit of the user\n",
    "        fit = users.loc[user_id]['fit']\n",
    "        \n",
    "        #Check if the fit has rated the movie\n",
    "        if fit in fit_mean[_id]:item\n",
    "            \n",
    "            #Compute the mean rating given by that fit to the item\n",
    "            fit_rating = fit_mean[item_id][fit]\n",
    "        \n",
    "        else:\n",
    "            fit_rating = 5.0\n",
    "    \n",
    "    else:\n",
    "        #Default to a rating of 3.0 in the absence of any information\n",
    "        fit_rating = 5.0\n",
    "    \n",
    "    return fit_rating"
   ]
  },
  {
   "cell_type": "code",
   "execution_count": null,
   "id": "dc92d2a4-c36b-4433-8cd4-6c27637863f3",
   "metadata": {},
   "outputs": [],
   "source": []
  },
  {
   "cell_type": "code",
   "execution_count": null,
   "id": "0bd8bd1a-1345-4e5c-a234-9ab864a71b85",
   "metadata": {},
   "outputs": [],
   "source": []
  },
  {
   "cell_type": "markdown",
   "id": "5de1a669",
   "metadata": {},
   "source": [
    "# Market basket analysis"
   ]
  },
  {
   "cell_type": "code",
   "execution_count": null,
   "id": "6bcfb760",
   "metadata": {},
   "outputs": [],
   "source": [
    "data = pd.read_csv('bread basket.csv')"
   ]
  },
  {
   "cell_type": "code",
   "execution_count": null,
   "id": "f8d3aa60",
   "metadata": {},
   "outputs": [],
   "source": [
    "data.head()"
   ]
  },
  {
   "cell_type": "code",
   "execution_count": null,
   "id": "2efd61d8",
   "metadata": {},
   "outputs": [],
   "source": [
    "data = data.drop(['date_time','period_day','weekday_weekend'], axis=1)"
   ]
  },
  {
   "cell_type": "code",
   "execution_count": null,
   "id": "0be4cf26",
   "metadata": {},
   "outputs": [],
   "source": [
    "data"
   ]
  },
  {
   "cell_type": "code",
   "execution_count": null,
   "id": "8cc93543",
   "metadata": {},
   "outputs": [],
   "source": [
    "data = data.groupby('Transaction')['Item'].apply(list)\n",
    "data"
   ]
  },
  {
   "cell_type": "code",
   "execution_count": null,
   "id": "6bf18d00",
   "metadata": {},
   "outputs": [],
   "source": [
    "data.info()"
   ]
  },
  {
   "cell_type": "code",
   "execution_count": null,
   "id": "1e9ed2f5",
   "metadata": {
    "scrolled": true
   },
   "outputs": [],
   "source": [
    "transactions = data.tolist()\n",
    "transactions"
   ]
  },
  {
   "cell_type": "code",
   "execution_count": null,
   "id": "93765df4",
   "metadata": {},
   "outputs": [],
   "source": [
    "items = list(set(item for transaction in transactions for item in transaction))\n",
    "\n",
    "items"
   ]
  },
  {
   "cell_type": "code",
   "execution_count": null,
   "id": "7fc5ae50",
   "metadata": {},
   "outputs": [],
   "source": [
    "encoded_data = pd.DataFrame(\n",
    "    [[item in transaction for item in items] for transaction in transactions],\n",
    "    columns=items\n",
    ")\n",
    "\n",
    "\n",
    "encoded_data.head()"
   ]
  },
  {
   "cell_type": "markdown",
   "id": "6e87f14f",
   "metadata": {},
   "source": [
    "## Apriori Algorithm"
   ]
  },
  {
   "cell_type": "code",
   "execution_count": null,
   "id": "9df4567d",
   "metadata": {},
   "outputs": [],
   "source": [
    "import time\n",
    "\n",
    "start_time = time.time()\n",
    "\n",
    "frequent_itemsets = apriori(encoded_data, min_support=0.01, use_colnames=True)\n",
    "frequent_itemsets\n",
    "\n",
    "# End timing\n",
    "end_time = time.time()\n",
    "\n",
    "# Calculate the time taken\n",
    "calculation_time = end_time - start_time\n",
    "\n",
    "print(\"Frequent Itemsets calculated in {:.2f} seconds.\".format(calculation_time))"
   ]
  },
  {
   "cell_type": "code",
   "execution_count": null,
   "id": "3cf26c69",
   "metadata": {},
   "outputs": [],
   "source": [
    "rules = association_rules(frequent_itemsets, metric = \"antecedent support\", min_threshold = 0.2, num_itemsets=0)\n",
    "rules.info()"
   ]
  },
  {
   "cell_type": "code",
   "execution_count": null,
   "id": "c0008bc9",
   "metadata": {},
   "outputs": [],
   "source": [
    "# Display the results\n",
    "from IPython.display import display\n",
    "\n",
    "print(\"Frequent Itemsets:\")\n",
    "display(frequent_itemsets.head())"
   ]
  },
  {
   "cell_type": "code",
   "execution_count": null,
   "id": "3a1bd01b",
   "metadata": {},
   "outputs": [],
   "source": [
    "print(\"\\nAssociation Rules:\")\n",
    "rules"
   ]
  },
  {
   "cell_type": "code",
   "execution_count": null,
   "id": "f64455ae",
   "metadata": {},
   "outputs": [],
   "source": [
    "print(encoded_data['Bread'].sum())\n",
    "print(encoded_data['Coffee'].sum())"
   ]
  },
  {
   "cell_type": "markdown",
   "id": "ed40ee50",
   "metadata": {},
   "source": [
    "## FP Growth Algorithm"
   ]
  },
  {
   "cell_type": "code",
   "execution_count": null,
   "id": "a8e6512a",
   "metadata": {},
   "outputs": [],
   "source": [
    "from mlxtend.frequent_patterns import fpgrowth\n",
    "start_time = time.time()\n",
    "\n",
    "\n",
    "# Evaluate the frequent item rules for fpgrowth function\n",
    "frequent_itemsets_fp = fpgrowth(encoded_data, min_support = 0.01, use_colnames = True)\n",
    "\n",
    "print(frequent_itemsets_fp)\n",
    "\n",
    "# End timing\n",
    "end_time = time.time()\n",
    "\n",
    "# Calculate the time taken\n",
    "calculation_time = end_time - start_time\n",
    "\n",
    "print(\"Frequent Itemsets calculated in {:.2f} seconds.\".format(calculation_time))"
   ]
  },
  {
   "cell_type": "code",
   "execution_count": null,
   "id": "16d09073",
   "metadata": {},
   "outputs": [],
   "source": [
    "from mlxtend.frequent_patterns import association_rules\n",
    "\n",
    "# Display the reles due to fp-growth algorithm\n",
    "rules_fp = association_rules(frequent_itemsets_fp, metric = \"confidence\", min_threshold = 0.3, num_itemsets=0)\n",
    "\n",
    "rules_fp"
   ]
  },
  {
   "cell_type": "code",
   "execution_count": null,
   "id": "9010fabc",
   "metadata": {},
   "outputs": [],
   "source": []
  },
  {
   "cell_type": "code",
   "execution_count": null,
   "id": "185c95fd",
   "metadata": {},
   "outputs": [],
   "source": []
  }
 ],
 "metadata": {
  "kernelspec": {
   "display_name": "Python 3 (ipykernel)",
   "language": "python",
   "name": "python3"
  },
  "language_info": {
   "codemirror_mode": {
    "name": "ipython",
    "version": 3
   },
   "file_extension": ".py",
   "mimetype": "text/x-python",
   "name": "python",
   "nbconvert_exporter": "python",
   "pygments_lexer": "ipython3",
   "version": "3.12.7"
  }
 },
 "nbformat": 4,
 "nbformat_minor": 5
}
